{
 "cells": [
  {
   "cell_type": "markdown",
   "metadata": {},
   "source": [
    "Assignment 4"
   ]
  },
  {
   "cell_type": "code",
   "execution_count": 1,
   "metadata": {},
   "outputs": [],
   "source": [
    "import pandas as pd\n",
    "import matplotlib as plt\n",
    "import plotly as py"
   ]
  },
  {
   "cell_type": "markdown",
   "metadata": {},
   "source": [
    "On Brightspace you can find under Contents/Resources a long list of datasets. Under the [AirBnB](https://brightspace.wur.nl/d2l/le/content/240321/viewContent/1052192/View) heading you can find a link to a website where you can download the AirBnB data from Amsterdam. Find the average price and the median for the Westerpark neighborhood. Plot the median distribution using Plotly."
   ]
  },
  {
   "cell_type": "code",
   "execution_count": 2,
   "metadata": {},
   "outputs": [],
   "source": [
    "df = pd.read_csv(\"./listings.csv\")\n"
   ]
  },
  {
   "cell_type": "code",
   "execution_count": 3,
   "metadata": {},
   "outputs": [
    {
     "name": "stdout",
     "output_type": "stream",
     "text": [
      "        id                                               name    host_id  \\\n",
      "1   768274  Rental unit in Amsterdam · ★4.83 · 1 bedroom ·...    3678216   \n",
      "2   768737  Boat in Amsterdam · ★4.82 · 1 bedroom · 1 bed ...    3877342   \n",
      "58  307497  Boat in Amsterdam · ★4.86 · 10 bedrooms · 26 b...  176944339   \n",
      "89  528022  Boat in Amsterdam · ★4.86 · 1 bedroom · 1 bed ...    2594559   \n",
      "93  553514  Rental unit in Amsterdam · ★4.41 · Studio · 1 ...     618589   \n",
      "\n",
      "   host_name  neighbourhood_group neighbourhood  latitude  longitude  \\\n",
      "1      J & R                  NaN    Westerpark  52.38855    4.88521   \n",
      "2     Nicole                  NaN    Westerpark  52.37824    4.86826   \n",
      "58      Dion                  NaN    Westerpark  52.39185    4.88690   \n",
      "89       Els                  NaN    Westerpark  52.39114    4.88846   \n",
      "93    Mirjam                  NaN    Westerpark  52.38444    4.86916   \n",
      "\n",
      "          room_type  price  minimum_nights  number_of_reviews last_review  \\\n",
      "1   Entire home/apt    327               3                 78  2023-08-16   \n",
      "2      Private room    109               2                341  2023-08-24   \n",
      "58  Entire home/apt   1257               2                109  2023-06-25   \n",
      "89     Private room    110               2                279  2023-07-29   \n",
      "93  Entire home/apt     80               2                162  2020-02-16   \n",
      "\n",
      "    reviews_per_month  calculated_host_listings_count  availability_365  \\\n",
      "1                0.64                               1                16   \n",
      "2                2.73                               3                29   \n",
      "58               0.82                               2                 0   \n",
      "89               3.32                               1               238   \n",
      "93               1.25                               1                 1   \n",
      "\n",
      "    number_of_reviews_ltm                   license  \n",
      "1                       6  0363 7A50 18E7 51D1 B7F9  \n",
      "2                      43      036396BE30827DDB9575  \n",
      "58                      7                    Exempt  \n",
      "89                     42  0363 9289 A94D 5C21 A579  \n",
      "93                      0  0363 AD82 ADCF 17F3 C3EA  \n"
     ]
    }
   ],
   "source": [
    "westerpark_df = df[df[\"neighbourhood\"] == \"Westerpark\"]\n",
    "print(westerpark_df.head())"
   ]
  },
  {
   "cell_type": "code",
   "execution_count": 4,
   "metadata": {},
   "outputs": [
    {
     "name": "stdout",
     "output_type": "stream",
     "text": [
      "200.0\n"
     ]
    }
   ],
   "source": [
    "west_median = westerpark_df[\"price\"].median()\n",
    "print(west_median)"
   ]
  },
  {
   "cell_type": "code",
   "execution_count": 6,
   "metadata": {},
   "outputs": [
    {
     "name": "stdout",
     "output_type": "stream",
     "text": [
      "231.14212328767124\n"
     ]
    }
   ],
   "source": [
    "west_average = westerpark_df[\"price\"].mean()\n",
    "print(west_average)"
   ]
  },
  {
   "cell_type": "code",
   "execution_count": 9,
   "metadata": {},
   "outputs": [
    {
     "data": {
      "application/vnd.plotly.v1+json": {
       "config": {
        "plotlyServerURL": "https://plot.ly"
       },
       "data": [
        {
         "alignmentgroup": "True",
         "bingroup": "x",
         "hovertemplate": "price=%{x}<br>count=%{y}<extra></extra>",
         "legendgroup": "",
         "marker": {
          "color": "#636efa",
          "pattern": {
           "shape": ""
          }
         },
         "name": "",
         "offsetgroup": "",
         "orientation": "v",
         "showlegend": false,
         "type": "histogram",
         "x": [
          327,
          109,
          1257,
          110,
          80,
          149,
          146,
          109,
          79,
          95,
          550,
          229,
          144,
          375,
          110,
          90,
          145,
          138,
          175,
          500,
          175,
          171,
          220,
          139,
          108,
          200,
          235,
          225,
          185,
          125,
          160,
          378,
          155,
          80,
          175,
          200,
          186,
          200,
          295,
          138,
          1500,
          473,
          120,
          139,
          78,
          779,
          165,
          243,
          200,
          175,
          180,
          350,
          95,
          153,
          182,
          205,
          290,
          45,
          99,
          300,
          119,
          295,
          300,
          250,
          76,
          80,
          349,
          129,
          269,
          115,
          250,
          206,
          200,
          140,
          220,
          200,
          249,
          89,
          323,
          208,
          229,
          250,
          180,
          130,
          125,
          145,
          90,
          99,
          130,
          340,
          79,
          200,
          94,
          80,
          219,
          180,
          163,
          98,
          225,
          61,
          225,
          587,
          150,
          250,
          164,
          214,
          271,
          79,
          448,
          99,
          225,
          300,
          110,
          260,
          320,
          80,
          412,
          130,
          149,
          400,
          471,
          236,
          76,
          119,
          364,
          110,
          130,
          74,
          200,
          183,
          174,
          106,
          111,
          199,
          69,
          156,
          99,
          90,
          93,
          230,
          179,
          225,
          112,
          210,
          68,
          149,
          125,
          350,
          250,
          137,
          150,
          150,
          349,
          95,
          250,
          60,
          129,
          420,
          200,
          289,
          164,
          250,
          150,
          153,
          180,
          199,
          245,
          225,
          159,
          132,
          290,
          240,
          125,
          275,
          103,
          200,
          377,
          195,
          295,
          118,
          254,
          280,
          220,
          195,
          215,
          200,
          425,
          149,
          80,
          250,
          84,
          250,
          154,
          175,
          300,
          186,
          125,
          125,
          185,
          200,
          170,
          145,
          90,
          141,
          110,
          295,
          100,
          85,
          199,
          59,
          95,
          168,
          168,
          150,
          125,
          206,
          100,
          120,
          180,
          281,
          440,
          145,
          100,
          550,
          393,
          110,
          144,
          350,
          120,
          144,
          160,
          500,
          350,
          380,
          180,
          80,
          80,
          71,
          420,
          175,
          300,
          249,
          271,
          75,
          300,
          155,
          55,
          330,
          120,
          176,
          299,
          160,
          333,
          160,
          450,
          168,
          199,
          149,
          190,
          229,
          250,
          850,
          300,
          264,
          306,
          109,
          250,
          185,
          240,
          220,
          180,
          295,
          275,
          799,
          175,
          150,
          225,
          325,
          275,
          210,
          321,
          536,
          357,
          118,
          250,
          169,
          120,
          314,
          180,
          250,
          170,
          195,
          201,
          175,
          279,
          276,
          500,
          180,
          115,
          227,
          261,
          317,
          300,
          276,
          217,
          109,
          265,
          225,
          110,
          180,
          227,
          176,
          320,
          200,
          125,
          263,
          252,
          267,
          315,
          265,
          243,
          250,
          165,
          119,
          198,
          219,
          450,
          100,
          180,
          260,
          161,
          199,
          385,
          193,
          217,
          300,
          260,
          250,
          130,
          100,
          204,
          195,
          150,
          275,
          176,
          95,
          250,
          160,
          76,
          220,
          185,
          220,
          227,
          99,
          200,
          100,
          275,
          350,
          250,
          344,
          250,
          150,
          250,
          250,
          220,
          110,
          381,
          138,
          280,
          250,
          500,
          195,
          336,
          299,
          160,
          154,
          132,
          116,
          200,
          140,
          280,
          200,
          150,
          400,
          136,
          149,
          269,
          190,
          441,
          322,
          225,
          230,
          339,
          300,
          250,
          306,
          250,
          175,
          110,
          154,
          200,
          195,
          250,
          140,
          178,
          600,
          254,
          500,
          180,
          520,
          200,
          203,
          310,
          157,
          135,
          166,
          200,
          267,
          600,
          350,
          195,
          175,
          500,
          210,
          160,
          266,
          300,
          256,
          200,
          150,
          250,
          750,
          111,
          168,
          152,
          300,
          400,
          275,
          204,
          278,
          175,
          346,
          250,
          220,
          450,
          429,
          357,
          159,
          200,
          130,
          514,
          250,
          200,
          160,
          175,
          141,
          199,
          350,
          395,
          290,
          155,
          175,
          250,
          300,
          290,
          275,
          153,
          220,
          286,
          230,
          290,
          250,
          256,
          198,
          194,
          177,
          399,
          600,
          150,
          229,
          301,
          180,
          239,
          230,
          413,
          200,
          455,
          300,
          300,
          200,
          120,
          198,
          231,
          239,
          200,
          200,
          99,
          215,
          203,
          175,
          250,
          192,
          188,
          300,
          135,
          200,
          151,
          350,
          250,
          136,
          149,
          93,
          166,
          175,
          330,
          400,
          290,
          389,
          458,
          350,
          129,
          291,
          250,
          445,
          383,
          150,
          325,
          390,
          200,
          230,
          400,
          141,
          200,
          300,
          350,
          328,
          185,
          160,
          225,
          175,
          450,
          220,
          240,
          231,
          190,
          350,
          429,
          298,
          220,
          229,
          150,
          355,
          440,
          300,
          249,
          125,
          183,
          390,
          180,
          164,
          151,
          174,
          97,
          210,
          204,
          113,
          157,
          400,
          148,
          280,
          295,
          175,
          231,
          200,
          178,
          295,
          795,
          250,
          250,
          241,
          212,
          250,
          340,
          310
         ],
         "xaxis": "x",
         "yaxis": "y"
        }
       ],
       "layout": {
        "barmode": "relative",
        "legend": {
         "tracegroupgap": 0
        },
        "margin": {
         "t": 60
        },
        "template": {
         "data": {
          "bar": [
           {
            "error_x": {
             "color": "#2a3f5f"
            },
            "error_y": {
             "color": "#2a3f5f"
            },
            "marker": {
             "line": {
              "color": "#E5ECF6",
              "width": 0.5
             },
             "pattern": {
              "fillmode": "overlay",
              "size": 10,
              "solidity": 0.2
             }
            },
            "type": "bar"
           }
          ],
          "barpolar": [
           {
            "marker": {
             "line": {
              "color": "#E5ECF6",
              "width": 0.5
             },
             "pattern": {
              "fillmode": "overlay",
              "size": 10,
              "solidity": 0.2
             }
            },
            "type": "barpolar"
           }
          ],
          "carpet": [
           {
            "aaxis": {
             "endlinecolor": "#2a3f5f",
             "gridcolor": "white",
             "linecolor": "white",
             "minorgridcolor": "white",
             "startlinecolor": "#2a3f5f"
            },
            "baxis": {
             "endlinecolor": "#2a3f5f",
             "gridcolor": "white",
             "linecolor": "white",
             "minorgridcolor": "white",
             "startlinecolor": "#2a3f5f"
            },
            "type": "carpet"
           }
          ],
          "choropleth": [
           {
            "colorbar": {
             "outlinewidth": 0,
             "ticks": ""
            },
            "type": "choropleth"
           }
          ],
          "contour": [
           {
            "colorbar": {
             "outlinewidth": 0,
             "ticks": ""
            },
            "colorscale": [
             [
              0,
              "#0d0887"
             ],
             [
              0.1111111111111111,
              "#46039f"
             ],
             [
              0.2222222222222222,
              "#7201a8"
             ],
             [
              0.3333333333333333,
              "#9c179e"
             ],
             [
              0.4444444444444444,
              "#bd3786"
             ],
             [
              0.5555555555555556,
              "#d8576b"
             ],
             [
              0.6666666666666666,
              "#ed7953"
             ],
             [
              0.7777777777777778,
              "#fb9f3a"
             ],
             [
              0.8888888888888888,
              "#fdca26"
             ],
             [
              1,
              "#f0f921"
             ]
            ],
            "type": "contour"
           }
          ],
          "contourcarpet": [
           {
            "colorbar": {
             "outlinewidth": 0,
             "ticks": ""
            },
            "type": "contourcarpet"
           }
          ],
          "heatmap": [
           {
            "colorbar": {
             "outlinewidth": 0,
             "ticks": ""
            },
            "colorscale": [
             [
              0,
              "#0d0887"
             ],
             [
              0.1111111111111111,
              "#46039f"
             ],
             [
              0.2222222222222222,
              "#7201a8"
             ],
             [
              0.3333333333333333,
              "#9c179e"
             ],
             [
              0.4444444444444444,
              "#bd3786"
             ],
             [
              0.5555555555555556,
              "#d8576b"
             ],
             [
              0.6666666666666666,
              "#ed7953"
             ],
             [
              0.7777777777777778,
              "#fb9f3a"
             ],
             [
              0.8888888888888888,
              "#fdca26"
             ],
             [
              1,
              "#f0f921"
             ]
            ],
            "type": "heatmap"
           }
          ],
          "heatmapgl": [
           {
            "colorbar": {
             "outlinewidth": 0,
             "ticks": ""
            },
            "colorscale": [
             [
              0,
              "#0d0887"
             ],
             [
              0.1111111111111111,
              "#46039f"
             ],
             [
              0.2222222222222222,
              "#7201a8"
             ],
             [
              0.3333333333333333,
              "#9c179e"
             ],
             [
              0.4444444444444444,
              "#bd3786"
             ],
             [
              0.5555555555555556,
              "#d8576b"
             ],
             [
              0.6666666666666666,
              "#ed7953"
             ],
             [
              0.7777777777777778,
              "#fb9f3a"
             ],
             [
              0.8888888888888888,
              "#fdca26"
             ],
             [
              1,
              "#f0f921"
             ]
            ],
            "type": "heatmapgl"
           }
          ],
          "histogram": [
           {
            "marker": {
             "pattern": {
              "fillmode": "overlay",
              "size": 10,
              "solidity": 0.2
             }
            },
            "type": "histogram"
           }
          ],
          "histogram2d": [
           {
            "colorbar": {
             "outlinewidth": 0,
             "ticks": ""
            },
            "colorscale": [
             [
              0,
              "#0d0887"
             ],
             [
              0.1111111111111111,
              "#46039f"
             ],
             [
              0.2222222222222222,
              "#7201a8"
             ],
             [
              0.3333333333333333,
              "#9c179e"
             ],
             [
              0.4444444444444444,
              "#bd3786"
             ],
             [
              0.5555555555555556,
              "#d8576b"
             ],
             [
              0.6666666666666666,
              "#ed7953"
             ],
             [
              0.7777777777777778,
              "#fb9f3a"
             ],
             [
              0.8888888888888888,
              "#fdca26"
             ],
             [
              1,
              "#f0f921"
             ]
            ],
            "type": "histogram2d"
           }
          ],
          "histogram2dcontour": [
           {
            "colorbar": {
             "outlinewidth": 0,
             "ticks": ""
            },
            "colorscale": [
             [
              0,
              "#0d0887"
             ],
             [
              0.1111111111111111,
              "#46039f"
             ],
             [
              0.2222222222222222,
              "#7201a8"
             ],
             [
              0.3333333333333333,
              "#9c179e"
             ],
             [
              0.4444444444444444,
              "#bd3786"
             ],
             [
              0.5555555555555556,
              "#d8576b"
             ],
             [
              0.6666666666666666,
              "#ed7953"
             ],
             [
              0.7777777777777778,
              "#fb9f3a"
             ],
             [
              0.8888888888888888,
              "#fdca26"
             ],
             [
              1,
              "#f0f921"
             ]
            ],
            "type": "histogram2dcontour"
           }
          ],
          "mesh3d": [
           {
            "colorbar": {
             "outlinewidth": 0,
             "ticks": ""
            },
            "type": "mesh3d"
           }
          ],
          "parcoords": [
           {
            "line": {
             "colorbar": {
              "outlinewidth": 0,
              "ticks": ""
             }
            },
            "type": "parcoords"
           }
          ],
          "pie": [
           {
            "automargin": true,
            "type": "pie"
           }
          ],
          "scatter": [
           {
            "fillpattern": {
             "fillmode": "overlay",
             "size": 10,
             "solidity": 0.2
            },
            "type": "scatter"
           }
          ],
          "scatter3d": [
           {
            "line": {
             "colorbar": {
              "outlinewidth": 0,
              "ticks": ""
             }
            },
            "marker": {
             "colorbar": {
              "outlinewidth": 0,
              "ticks": ""
             }
            },
            "type": "scatter3d"
           }
          ],
          "scattercarpet": [
           {
            "marker": {
             "colorbar": {
              "outlinewidth": 0,
              "ticks": ""
             }
            },
            "type": "scattercarpet"
           }
          ],
          "scattergeo": [
           {
            "marker": {
             "colorbar": {
              "outlinewidth": 0,
              "ticks": ""
             }
            },
            "type": "scattergeo"
           }
          ],
          "scattergl": [
           {
            "marker": {
             "colorbar": {
              "outlinewidth": 0,
              "ticks": ""
             }
            },
            "type": "scattergl"
           }
          ],
          "scattermapbox": [
           {
            "marker": {
             "colorbar": {
              "outlinewidth": 0,
              "ticks": ""
             }
            },
            "type": "scattermapbox"
           }
          ],
          "scatterpolar": [
           {
            "marker": {
             "colorbar": {
              "outlinewidth": 0,
              "ticks": ""
             }
            },
            "type": "scatterpolar"
           }
          ],
          "scatterpolargl": [
           {
            "marker": {
             "colorbar": {
              "outlinewidth": 0,
              "ticks": ""
             }
            },
            "type": "scatterpolargl"
           }
          ],
          "scatterternary": [
           {
            "marker": {
             "colorbar": {
              "outlinewidth": 0,
              "ticks": ""
             }
            },
            "type": "scatterternary"
           }
          ],
          "surface": [
           {
            "colorbar": {
             "outlinewidth": 0,
             "ticks": ""
            },
            "colorscale": [
             [
              0,
              "#0d0887"
             ],
             [
              0.1111111111111111,
              "#46039f"
             ],
             [
              0.2222222222222222,
              "#7201a8"
             ],
             [
              0.3333333333333333,
              "#9c179e"
             ],
             [
              0.4444444444444444,
              "#bd3786"
             ],
             [
              0.5555555555555556,
              "#d8576b"
             ],
             [
              0.6666666666666666,
              "#ed7953"
             ],
             [
              0.7777777777777778,
              "#fb9f3a"
             ],
             [
              0.8888888888888888,
              "#fdca26"
             ],
             [
              1,
              "#f0f921"
             ]
            ],
            "type": "surface"
           }
          ],
          "table": [
           {
            "cells": {
             "fill": {
              "color": "#EBF0F8"
             },
             "line": {
              "color": "white"
             }
            },
            "header": {
             "fill": {
              "color": "#C8D4E3"
             },
             "line": {
              "color": "white"
             }
            },
            "type": "table"
           }
          ]
         },
         "layout": {
          "annotationdefaults": {
           "arrowcolor": "#2a3f5f",
           "arrowhead": 0,
           "arrowwidth": 1
          },
          "autotypenumbers": "strict",
          "coloraxis": {
           "colorbar": {
            "outlinewidth": 0,
            "ticks": ""
           }
          },
          "colorscale": {
           "diverging": [
            [
             0,
             "#8e0152"
            ],
            [
             0.1,
             "#c51b7d"
            ],
            [
             0.2,
             "#de77ae"
            ],
            [
             0.3,
             "#f1b6da"
            ],
            [
             0.4,
             "#fde0ef"
            ],
            [
             0.5,
             "#f7f7f7"
            ],
            [
             0.6,
             "#e6f5d0"
            ],
            [
             0.7,
             "#b8e186"
            ],
            [
             0.8,
             "#7fbc41"
            ],
            [
             0.9,
             "#4d9221"
            ],
            [
             1,
             "#276419"
            ]
           ],
           "sequential": [
            [
             0,
             "#0d0887"
            ],
            [
             0.1111111111111111,
             "#46039f"
            ],
            [
             0.2222222222222222,
             "#7201a8"
            ],
            [
             0.3333333333333333,
             "#9c179e"
            ],
            [
             0.4444444444444444,
             "#bd3786"
            ],
            [
             0.5555555555555556,
             "#d8576b"
            ],
            [
             0.6666666666666666,
             "#ed7953"
            ],
            [
             0.7777777777777778,
             "#fb9f3a"
            ],
            [
             0.8888888888888888,
             "#fdca26"
            ],
            [
             1,
             "#f0f921"
            ]
           ],
           "sequentialminus": [
            [
             0,
             "#0d0887"
            ],
            [
             0.1111111111111111,
             "#46039f"
            ],
            [
             0.2222222222222222,
             "#7201a8"
            ],
            [
             0.3333333333333333,
             "#9c179e"
            ],
            [
             0.4444444444444444,
             "#bd3786"
            ],
            [
             0.5555555555555556,
             "#d8576b"
            ],
            [
             0.6666666666666666,
             "#ed7953"
            ],
            [
             0.7777777777777778,
             "#fb9f3a"
            ],
            [
             0.8888888888888888,
             "#fdca26"
            ],
            [
             1,
             "#f0f921"
            ]
           ]
          },
          "colorway": [
           "#636efa",
           "#EF553B",
           "#00cc96",
           "#ab63fa",
           "#FFA15A",
           "#19d3f3",
           "#FF6692",
           "#B6E880",
           "#FF97FF",
           "#FECB52"
          ],
          "font": {
           "color": "#2a3f5f"
          },
          "geo": {
           "bgcolor": "white",
           "lakecolor": "white",
           "landcolor": "#E5ECF6",
           "showlakes": true,
           "showland": true,
           "subunitcolor": "white"
          },
          "hoverlabel": {
           "align": "left"
          },
          "hovermode": "closest",
          "mapbox": {
           "style": "light"
          },
          "paper_bgcolor": "white",
          "plot_bgcolor": "#E5ECF6",
          "polar": {
           "angularaxis": {
            "gridcolor": "white",
            "linecolor": "white",
            "ticks": ""
           },
           "bgcolor": "#E5ECF6",
           "radialaxis": {
            "gridcolor": "white",
            "linecolor": "white",
            "ticks": ""
           }
          },
          "scene": {
           "xaxis": {
            "backgroundcolor": "#E5ECF6",
            "gridcolor": "white",
            "gridwidth": 2,
            "linecolor": "white",
            "showbackground": true,
            "ticks": "",
            "zerolinecolor": "white"
           },
           "yaxis": {
            "backgroundcolor": "#E5ECF6",
            "gridcolor": "white",
            "gridwidth": 2,
            "linecolor": "white",
            "showbackground": true,
            "ticks": "",
            "zerolinecolor": "white"
           },
           "zaxis": {
            "backgroundcolor": "#E5ECF6",
            "gridcolor": "white",
            "gridwidth": 2,
            "linecolor": "white",
            "showbackground": true,
            "ticks": "",
            "zerolinecolor": "white"
           }
          },
          "shapedefaults": {
           "line": {
            "color": "#2a3f5f"
           }
          },
          "ternary": {
           "aaxis": {
            "gridcolor": "white",
            "linecolor": "white",
            "ticks": ""
           },
           "baxis": {
            "gridcolor": "white",
            "linecolor": "white",
            "ticks": ""
           },
           "bgcolor": "#E5ECF6",
           "caxis": {
            "gridcolor": "white",
            "linecolor": "white",
            "ticks": ""
           }
          },
          "title": {
           "x": 0.05
          },
          "xaxis": {
           "automargin": true,
           "gridcolor": "white",
           "linecolor": "white",
           "ticks": "",
           "title": {
            "standoff": 15
           },
           "zerolinecolor": "white",
           "zerolinewidth": 2
          },
          "yaxis": {
           "automargin": true,
           "gridcolor": "white",
           "linecolor": "white",
           "ticks": "",
           "title": {
            "standoff": 15
           },
           "zerolinecolor": "white",
           "zerolinewidth": 2
          }
         }
        },
        "xaxis": {
         "anchor": "y",
         "domain": [
          0,
          1
         ],
         "title": {
          "text": "price"
         }
        },
        "yaxis": {
         "anchor": "x",
         "domain": [
          0,
          1
         ],
         "title": {
          "text": "count"
         }
        }
       }
      }
     },
     "metadata": {},
     "output_type": "display_data"
    }
   ],
   "source": [
    "import plotly.express as px\n",
    "\n",
    "pd.options.plotting.backend = \"plotly\"\n",
    "fig = px.histogram(westerpark_df, x=\"price\")\n",
    "fig.show()"
   ]
  }
 ],
 "metadata": {
  "kernelspec": {
   "display_name": "Python 3",
   "language": "python",
   "name": "python3"
  },
  "language_info": {
   "codemirror_mode": {
    "name": "ipython",
    "version": 3
   },
   "file_extension": ".py",
   "mimetype": "text/x-python",
   "name": "python",
   "nbconvert_exporter": "python",
   "pygments_lexer": "ipython3",
   "version": "3.11.5"
  },
  "orig_nbformat": 4
 },
 "nbformat": 4,
 "nbformat_minor": 2
}
