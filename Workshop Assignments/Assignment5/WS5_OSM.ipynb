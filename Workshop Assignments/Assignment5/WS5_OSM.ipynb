{
 "cells": [
  {
   "cell_type": "markdown",
   "id": "e2a55ed7-6de7-4cd2-a32c-70ba4606f4c2",
   "metadata": {},
   "source": [
    "<header>\n",
    "        <div style=\"overflow: auto;\">\n",
    "        <img src=\"./images/AMS_LogoRED3.png\" style=\"float: left;\" width=\"300\" />\n",
    "        <img src=\"./images/TUDelft.jpg\" style=\"float: right;\" />\n",
    "    </div>\n",
    "    <div style=\"text-align: center;\">\n",
    "        <h1> AMS Data1 </h1>\n",
    "        <h2>Workshop 5: Networks</h2>\n",
    "        <h6>&copy; 2023, TU Delft. Hans Hoogenboom, Creative Commons</h6>     \n",
    "    </div>\n",
    "    <br>   \n",
    "    <br>\n",
    "</header>"
   ]
  },
  {
   "cell_type": "markdown",
   "id": "70321ca1-e01a-4cb7-ab16-5acec1494dc7",
   "metadata": {},
   "source": [
    "## Diagrams\n",
    "<p>\n",
    "<a href='https://en.wikipedia.org/wiki/Unified_Modeling_Language'>UML (Unified Modeling Language)</a><br>\n",
    "<div style=\"overflow: auto;\">\n",
    "<img src=\"./images/tools_uml.png\" style=\"float: left;\" width=\"600\" />\n",
    "</div><br>\n",
    "</p>\n",
    "<p>\n",
    "<a href='https://en.wikipedia.org/wiki/Flowchart'>Flow charts</a>\n",
    "<div style=\"overflow: auto;\">\n",
    "<img src=\"./images/Euclid_flowchart.svg\" style=\"float: left;\" width=\"200\" />\n",
    "</div>\n",
    "<font size=1>By Somepics - Own work, CC BY-SA 4.0, https://commons.wikimedia.org/w/index.php?curid=37859894</font>\n",
    "<p>It is easy to create flow charts using for example the tools on the website <a href='https://app.diagrams.net/'>Diagrams.net</a></p>\n",
    "<p>Or you can use <a href='https://en.wikipedia.org/wiki/Pseudocode'>pseudo code</a> or better <a href='https://en.wikipedia.org/wiki/Structured_English'>Structured English</a> (or of course another language of your choice).</p>\n",
    "\n",
    "In Python you can quickly prototype by creating almost empty functions. An empty function in Python throws an error but we have a cheat called <i>pass</i>.\n"
   ]
  },
  {
   "cell_type": "code",
   "execution_count": null,
   "id": "eff9a6d5-8c43-435a-8a01-9185ded7f445",
   "metadata": {},
   "outputs": [],
   "source": [
    "def my_dysfunctional_function():"
   ]
  },
  {
   "cell_type": "code",
   "execution_count": null,
   "id": "76ad47e3-9f1d-4df9-a260-f9dc878c1054",
   "metadata": {},
   "outputs": [],
   "source": [
    "def energy_costs(building_volume, energy_price):\n",
    "   pass\n",
    "\n",
    "building_volume = None\n",
    "energy_price = None\n",
    "energy_costs(building_volume, energy_price)"
   ]
  },
  {
   "cell_type": "markdown",
   "id": "b3d33828-7d4c-42ee-9c6d-18680fbe6f7f",
   "metadata": {},
   "source": [
    "# !!!And pen and paper!!! SKETCH"
   ]
  },
  {
   "cell_type": "markdown",
   "id": "291c31b1-6293-4b8b-a8aa-d5bcebce43d3",
   "metadata": {},
   "source": [
    "### Networks\n",
    "Last week we installed Pandas and this week we will have another Panda installed, this time the Geopandas library. In fact we/you are going to install quite a few libraries. I lost track of them so when executing the examples you might get an error about a missing library. Most if not all the time you can do a *pip install missing_library* on the command line, then restart the kernel of your current Jupyter notebook and continue. The restart option is located above under the menu Kernel.\n",
    "\n",
    "When doing any scientific computing with Python, there is a 99.999% chance you are going to use [Numpy](https://numpy.org/). Numpy is often imported with the abbreviation np. The same with Pandas, it is imported as pd. For analysing networks there is a library called [Networkx](https://networkx.org/), imported as nx. After a while you start noticing these abbreviations in the names of methods or functions of other libraries. Then you sort of know what library is used and what datatype or object you will need to input or that will be returned to you. Apart from Numpy, another library that is almost always used under the hood is [Matplotlib](https://matplotlib.org/). A lot of other \"plotters\" are wrapped around functionality provided by Matplotlib.\n",
    "\n",
    "#### NetworkX\n",
    "We can install networkx the obvious way. The functions of NetworkX work on *Graph* objects, the methods of Graphs are used for basic manipulation or reporting. Internally the Graph object is organizaed as your favorite Python structure, the dictionary. A network/graph consists of nodes and edges. The nodes need to be of a hashable type, a type that can't be changed (like a string or a number). Edges can hold any kind of data.\n",
    "\n",
    "You can create an empty Graph using the Graph() function."
   ]
  },
  {
   "cell_type": "code",
   "execution_count": null,
   "id": "a73b48cf-e391-4010-ba56-25176b1028af",
   "metadata": {},
   "outputs": [],
   "source": [
    "import networkx as nx\n",
    "G = nx.Graph()\n",
    "print(type(G))\n",
    "print(G)"
   ]
  },
  {
   "cell_type": "markdown",
   "id": "7fc37a90-aa57-4a9f-ac19-babddf7feb02",
   "metadata": {},
   "source": [
    "We can add nodes from different kind of data, for example from a string:"
   ]
  },
  {
   "cell_type": "code",
   "execution_count": null,
   "id": "8dc77025-469f-4036-9314-5f073011ce12",
   "metadata": {},
   "outputs": [],
   "source": [
    "G.add_nodes_from(\"Data1\")\n",
    "# You can use the code below to remove all\n",
    "# entities from a graph\n",
    "#G.clear()\n",
    "print(G)"
   ]
  },
  {
   "cell_type": "markdown",
   "id": "78c7f335-aa14-45f5-86f6-8632e281ccee",
   "metadata": {},
   "source": [
    "Do you see something peculiar in the output? We can also create a list of nodes from a range of numbers:"
   ]
  },
  {
   "cell_type": "code",
   "execution_count": null,
   "id": "eddb070d-5247-4fbd-a4c2-80f6602073c5",
   "metadata": {},
   "outputs": [],
   "source": [
    "F = nx.Graph()\n",
    "F.add_nodes_from(range(1, 10))\n",
    "print(F)"
   ]
  },
  {
   "cell_type": "markdown",
   "id": "0eb60a11-97d3-4d73-93c4-aaa4497cee09",
   "metadata": {},
   "source": [
    "We can add edges between nodes using the add-edges method. You can give a tuple to create a single edge between two nodes or a list of tuples to create several edges at once."
   ]
  },
  {
   "cell_type": "code",
   "execution_count": null,
   "id": "2875128b-9d84-4a47-a4e3-e48491820686",
   "metadata": {},
   "outputs": [],
   "source": [
    "print(G)\n",
    "G.add_edges_from([('D', 'a'), ('t', '1')])\n",
    "print(G)"
   ]
  },
  {
   "cell_type": "markdown",
   "id": "cdec96ba-81fc-426f-9059-3ff0b861efc0",
   "metadata": {},
   "source": [
    "We can plot the graph using matplotlib. For a more extensive tutorial on plotting with Plotly see [here](https://plotly.com/python/network-graphs/)."
   ]
  },
  {
   "cell_type": "code",
   "execution_count": null,
   "id": "95c34d47-e2c8-4258-b0a2-7940ddc4dee6",
   "metadata": {},
   "outputs": [],
   "source": [
    "import matplotlib.pyplot as plt\n",
    "nx.draw(G, with_labels=True, font_weight='bold')"
   ]
  },
  {
   "cell_type": "markdown",
   "id": "60d35970-9bbd-40fb-8f78-35309341450a",
   "metadata": {},
   "source": [
    "Let's connect the dots and print it again."
   ]
  },
  {
   "cell_type": "code",
   "execution_count": null,
   "id": "fe9749cc-dcc5-40c8-b060-788681b00aae",
   "metadata": {},
   "outputs": [],
   "source": [
    "G.add_edges_from([('a', '1'), ('D', '1')])\n",
    "nx.draw(G, with_labels=True, font_weight='bold')"
   ]
  },
  {
   "cell_type": "markdown",
   "id": "df2349c5-f53d-4a16-86cd-05823d87a5a6",
   "metadata": {},
   "source": [
    "Since the Graph is a bit like a dictionary, you won't be surprised that if, with the add_edges method, you use a node name that doesn't exist, it automatically get's added. With the methods number_of_nodes() and number_of_edges() you can get the obvious data from the graph. We can also get a list of the edges and ndoes using the G.nodes() or G.edges() inside a list() statement."
   ]
  },
  {
   "cell_type": "code",
   "execution_count": null,
   "id": "505d98e7-14b0-40f4-8ded-41ca66d303cc",
   "metadata": {},
   "outputs": [],
   "source": [
    "print(list(G.edges))\n",
    "list(G.nodes)"
   ]
  },
  {
   "cell_type": "markdown",
   "id": "ba6537c9-d67d-4b5a-9d39-20591ab7682d",
   "metadata": {},
   "source": [
    "We can add any attributes to our Graph, to the nodes and to the edges.G."
   ]
  },
  {
   "cell_type": "code",
   "execution_count": null,
   "id": "86f59348-95b5-4ec1-bc19-b75dacb42e09",
   "metadata": {},
   "outputs": [],
   "source": [
    "G.graph['title']=\"My First Graph\"\n",
    "G.graph"
   ]
  },
  {
   "cell_type": "markdown",
   "id": "1aed8def-8b0d-4414-8a53-e14ef5cf2def",
   "metadata": {},
   "source": [
    "To edges:"
   ]
  },
  {
   "cell_type": "code",
   "execution_count": null,
   "id": "fe81dff5-db4e-4542-9cce-12860eca7294",
   "metadata": {},
   "outputs": [],
   "source": [
    "G.edges['D', 'a'][\"distance\"] = 2\n",
    "G.edges['D', '1'][\"distance\"] = 200\n",
    "G.edges['1', 'a'][\"distance\"] = 1\n",
    "G.edges['t', '1'][\"distance\"] = 2000"
   ]
  },
  {
   "cell_type": "markdown",
   "id": "ee2ce6e3-7d09-40fd-9bb0-610c514c37b7",
   "metadata": {},
   "source": [
    "We can get the data from the nodes and edges as shown below."
   ]
  },
  {
   "cell_type": "code",
   "execution_count": null,
   "id": "8b104dc9-48fe-4f91-ae53-50422f7d2f61",
   "metadata": {},
   "outputs": [],
   "source": [
    "G.nodes['D']['first'] = True\n",
    "G.nodes['a']['first'] = False\n",
    "print(G.edges['D', 'a'])\n",
    "print(G.nodes['D'])"
   ]
  },
  {
   "cell_type": "markdown",
   "id": "dfc2ea98-ae7e-40d5-9522-081b660b502b",
   "metadata": {},
   "source": [
    "One thing we can do with networks is to calculate the shortest path between nodes:"
   ]
  },
  {
   "cell_type": "code",
   "execution_count": null,
   "id": "c932816f-1c30-450c-881f-cf5b3694aec5",
   "metadata": {},
   "outputs": [],
   "source": [
    "print(G)\n",
    "# just count the number of nodes traversed\n",
    "path = nx.shortest_path(G, 't', 'D')\n",
    "print(path)\n",
    "# use attribute weight to calculate the shortest path\n",
    "path = nx.shortest_path(G, 't', 'D', weight=\"distance\")\n",
    "print(path)\n",
    "length = nx.shortest_path_length(G, 't', 'D', weight=\"distance\")\n",
    "length"
   ]
  },
  {
   "cell_type": "markdown",
   "id": "39586fdb-57ab-4773-8863-f9a2beb6cd15",
   "metadata": {},
   "source": [
    "The shortest path uses [Dijkstra's Algorithm](https://en.wikipedia.org/wiki/Dijkstra%27s_algorithm) by default. There are a few other algorithms depending on what type of graph you have or how many nodes you use (one to one or one to many).\n",
    "\n",
    "If you want to read a more extended introduction into NetworkX, have a look at the [intro page](https://networkx.org/documentation/stable/reference/introduction.html). You can find more educational material [here](https://networkx.org/nx-guides/index.html).\n",
    "\n",
    "### GeoPandas\n",
    "For GIS and spatial analysis [GeoPandas](https://geopandas.org/en/stable/index.html) has been developped. You can probably guess that it looks a loot like Pandas and it does. Let's see it as a Pandas dataframe (Excel sheet) but with some extra attached columns holding geometry. Further it extends Pandas with functions and methods to deal with this geometry. There are for example functions to add geographic regions together or to calculate their area etc. Next to Pandas, GeoPandas is also dependent on Matplotlib, Fiona and [Shapely](https://shapely.readthedocs.io/en/stable/manual.html). The last one can be very useful if you want to proces planar geometry. \n",
    "\n",
    "## OSMNX\n",
    "An interesting project is OSMNX. It is a little bit more useful outside of Europe since we have often very well supplied governmental databases. This is super nice but unfortunately they are scattered all over the internet. In the USA a lot of municipalities use OpenStreetMap to store their data and thuse a treasure trove for the GIS specialist. Still it is a useful tool when used in combination with other tools (like QGIS).\n",
    "\n",
    "OSMN is imported as ox. We can create a graph in several ways, the easiest is by giving the name of the location we want to have. It can take a bit of time till all the data is loaded so be patient. You can always read the data in, theN save it to a file so you can reuse it later without the extra waiting time."
   ]
  },
  {
   "cell_type": "code",
   "execution_count": null,
   "id": "b446e1ad-ccce-432a-a529-0e138c32823a",
   "metadata": {},
   "outputs": [],
   "source": [
    "import osmnx as ox\n",
    "city = (ox.graph_from_place('Amsterdam, Netherlands'))\n",
    "# matlplot lib is used, sizes go in inches...\n",
    "ox.plot_graph(city, figsize=(12,6))"
   ]
  },
  {
   "cell_type": "markdown",
   "id": "a26a59d6-e241-4067-b5ee-e03296ba3c52",
   "metadata": {},
   "source": [
    "Okay, took a while but we have now all the streets/walkways/tram lines of Amsterdam. We always check first what kind of data we have:"
   ]
  },
  {
   "cell_type": "code",
   "execution_count": null,
   "id": "1a344ae3-ba64-4902-a284-d91afed029f7",
   "metadata": {},
   "outputs": [],
   "source": [
    "print(type(city))\n",
    "print(city)"
   ]
  },
  {
   "cell_type": "markdown",
   "id": "3f84dc9e-a4c7-4a1e-ac4b-a0bf264e3c94",
   "metadata": {},
   "source": [
    "As you can see OSMNX does use networkx for its datatypes. It is basically a wrapper around the [OSM python API](https://wiki.openstreetmap.org/wiki/API) and Networkx. Let's write this data to disk and then read it back in:"
   ]
  },
  {
   "cell_type": "code",
   "execution_count": null,
   "id": "2d176cef-14ad-4622-bebb-8c12932bc712",
   "metadata": {},
   "outputs": [],
   "source": [
    "filename = \"adam_data.nx\"\n",
    "with open(filename, 'wb') as fhandle:\n",
    "    fhandle.write(city)"
   ]
  },
  {
   "cell_type": "markdown",
   "id": "d4562266-8d1c-490f-ba6e-cbdba0754ff7",
   "metadata": {},
   "source": [
    "That didn't work unfortunately. In Python there is a special way to write data to a file (or stream) using the pickle module. Pickle doesn't use a read or write method but a *dump* and *load*."
   ]
  },
  {
   "cell_type": "code",
   "execution_count": null,
   "id": "f3cfb616-affd-48a2-a452-dae4c445a3fe",
   "metadata": {},
   "outputs": [],
   "source": [
    "import pickle\n",
    "\n",
    "filename = \"adam_data.nx\"\n",
    "\n",
    "with open(filename, 'wb') as fhandle:\n",
    "    pickle.dump(city, fhandle)"
   ]
  },
  {
   "cell_type": "markdown",
   "id": "739b3920-30cf-4c83-ad18-ba22adec97d9",
   "metadata": {},
   "source": [
    "We can load this back in in almost the same way."
   ]
  },
  {
   "cell_type": "code",
   "execution_count": null,
   "id": "7a22d27d-98af-472a-bb33-7ee07706582a",
   "metadata": {},
   "outputs": [],
   "source": [
    "import osmnx as ox\n",
    "import pickle\n",
    "\n",
    "filename = \"adam_data.nx\"\n",
    "\n",
    "with open(filename, 'rb') as fhandle:\n",
    "    new_city = pickle.load(fhandle)\n",
    "\n",
    "print(type(new_city))\n",
    "print(new_city)\n",
    "ox.plot_graph(new_city, bgcolor='green', node_color='red', node_size=2, edge_color='white', figsize=(12,6))"
   ]
  },
  {
   "cell_type": "markdown",
   "id": "0f6aea89-7d48-49c3-81bc-6ad865545ad1",
   "metadata": {},
   "source": [
    "OSMNX itslef comes with quite a few functions to save your data to formats that other GIS programs or Python libraries can read.\n",
    "\n",
    "Below an example to get just the boundary of the municipality of Amsterdam:"
   ]
  },
  {
   "cell_type": "code",
   "execution_count": null,
   "id": "a47fdc0e-60db-47bf-9930-46a6c4d11fe4",
   "metadata": {},
   "outputs": [],
   "source": [
    "boundary = ox.geocode_to_gdf('Amsterdam, Netherlands')\n",
    "print(type(boundary))\n",
    "print(boundary.head())\n",
    "ax = ox.project_gdf(boundary).plot()"
   ]
  },
  {
   "cell_type": "code",
   "execution_count": null,
   "id": "079f5dec-8abd-470d-9e6c-d7e7b098f037",
   "metadata": {},
   "outputs": [],
   "source": [
    "rokin = ox.graph_from_address('Dam, Amsterdam, Netherlands', dist=500)\n",
    "ox.plot_graph(rokin)\n",
    "rokin.nodes[46377925]"
   ]
  },
  {
   "cell_type": "markdown",
   "id": "eb8bae65-2249-4614-a00b-7b024bf4c252",
   "metadata": {},
   "source": [
    "As a small exercise, you could see how the network looks if you only get the areas where you can walk or drive. You can add this filter by adding network_type='type_of_transport' to the query. \n",
    "\n",
    "The plot function is also used to save a file to disk:"
   ]
  },
  {
   "cell_type": "code",
   "execution_count": null,
   "id": "2c4fd7c0-4d7e-4941-b631-73c3e1db60c8",
   "metadata": {},
   "outputs": [],
   "source": [
    "fig, ax = ox.plot_graph(rokin, filepath='image.svg', save=True, show=False, close=True)"
   ]
  },
  {
   "cell_type": "markdown",
   "id": "6323490b-1474-4b1b-b07d-ee1cd50b3681",
   "metadata": {},
   "source": [
    "With the *features_** functions you can query for OpenStreetMap features. An extensive list can be found [here](https://wiki.openstreetmap.org/wiki/Map_features)."
   ]
  },
  {
   "cell_type": "code",
   "execution_count": null,
   "id": "047287ce-db7e-429b-9502-8a7fe1b7022e",
   "metadata": {},
   "outputs": [],
   "source": [
    "place = \"Dam, Amsterdam, Netherlands\"\n",
    "tags = {\"building\": True}\n",
    "gdf = ox.features_from_address(place, tags, dist=200)\n",
    "gdf.shape\n",
    "fig, ax = ox.plot_footprints(gdf, figsize=(3, 3))"
   ]
  },
  {
   "cell_type": "markdown",
   "id": "f4ae546b-1f9a-4deb-99ac-3dabdd676e0d",
   "metadata": {},
   "source": [
    "### Finding nodes, Geocoding\n",
    "\n",
    "OSM is build up of nodes with data attached including geometric data. But it is all in numbers and it is very hard to remember that your address is at node 22345339. It is also annoying looking up a node id on the website of OSM. OSM uses the Nominatim api to convert addresses to a coordinate (latitude, longitude). OSMNX has a method to do this using Python. Another Python library is Geocoder used by programs like QGIS and ArcGIS."
   ]
  },
  {
   "cell_type": "code",
   "execution_count": null,
   "id": "22a20c0a-e8af-434e-96ac-74197b17ebe3",
   "metadata": {},
   "outputs": [],
   "source": [
    "location = ox.geocode(\"Leidsestraat 1, Amsterdam, Netherlands\")\n",
    "print(type(location))\n",
    "print(location)"
   ]
  },
  {
   "cell_type": "code",
   "execution_count": null,
   "id": "9d32cfe4-3609-457e-80e0-d2de2c2d93fc",
   "metadata": {},
   "outputs": [],
   "source": [
    "location_to = ox.geocode(\"Taksteeg 12, Amsterdam, Netherlands\")\n",
    "print(location_to)"
   ]
  },
  {
   "cell_type": "code",
   "execution_count": null,
   "id": "1b5fe9a7-33e6-4c67-a277-99ed05c72229",
   "metadata": {},
   "outputs": [],
   "source": [
    "nodes = ox.distance.nearest_nodes(city, location[1], location[0], return_dist=True)\n",
    "nodes_to = ox.distance.nearest_nodes(city, location_to[1], location_to[0], return_dist=True)\n",
    "print(nodes, nodes_to)"
   ]
  },
  {
   "cell_type": "markdown",
   "id": "a899772d-f206-4d24-b596-5abe9067b337",
   "metadata": {},
   "source": [
    "With the [OSMNX distance](https://osmnx.readthedocs.io/en/stable/user-reference.html#module-osmnx.distance) module you can find the shortest path between two nodes. The *shortest_path* function needs a Graph, and a start and end point. By default it uses the attribute *length* to calcualte the distances between nodes. This attribute is added automatically when reading in data using one of the *graph_** functions. In case you are missing the attribute, your data is coming from somewhere else, you can use the *add_edge_length* function."
   ]
  },
  {
   "cell_type": "code",
   "execution_count": null,
   "id": "add02dc4-2ae4-4cfc-83fd-cf87c606c63c",
   "metadata": {},
   "outputs": [],
   "source": [
    "if nodes[0] in city.nodes:\n",
    "    print(\"Node found.\")\n",
    "if nodes_to[0] in city.nodes:\n",
    "    print(\"Node found.\")\n",
    "path = ox.shortest_path(city, nodes[0], nodes_to[0])\n",
    "print(path)\n",
    "#fig, ax = ox.plot_graph_route(city, path, orig_dest_size=0, node_size=0)\n",
    "pt = ox.graph_to_gdfs(city, edges=False).unary_union.centroid\n",
    "bbox = ox.utils_geo.bbox_from_point(location, dist=900)\n",
    "fig, ax = ox.plot_graph_route(city, path, bbox=bbox)"
   ]
  },
  {
   "cell_type": "markdown",
   "id": "924fbd5f-3d92-41d5-8619-383fafadac98",
   "metadata": {},
   "source": [
    "## Group Exercise\n",
    "Find the address of your appartment and plot the route to the AMS. Plot all routes from your group in one graph. "
   ]
  },
  {
   "cell_type": "markdown",
   "id": "824ac55d-b8c9-4bd9-8e0f-3616aff477f2",
   "metadata": {},
   "source": [
    "#### A Long List of Useful Links\n",
    "https://github.com/gboeing/osmnx-examples\n",
    "\n",
    "https://geoffboeing.com/2016/11/osmnx-python-street-networks/\n",
    "\n",
    "https://osmnx.readthedocs.io/en/stable/user-reference.html\n",
    "\n",
    "https://github.com/mocnik-science/osm-python-tools\n",
    "\n",
    "https://github.com/mocnik-science/osm-python-tools/blob/master/docs/data.md\n",
    "\n",
    "https://github.com/mocnik-science/osm-python-tools/blob/master/docs/overpass.md\n",
    "\n",
    "https://towardsdatascience.com/shortest-path-algorithm-used-in-osm-street-network-33e0f864f34b\n",
    "\n",
    "https://towardsdatascience.com/a-complete-guide-to-an-interactive-geographical-map-using-python-f4c5197e23e0\n",
    "\n",
    "https://gisgeography.com/python-libraries-gis-mapping/\n",
    "\n",
    "https://python-visualization.github.io/folium/latest/getting_started.html\n",
    "\n",
    "https://python.plainenglish.io/osmnx-the-fastest-way-to-get-data-from-openstreetmaps-731419d4dc31\n",
    "\n",
    "https://docs.qgis.org/3.28/en/docs/gentle_gis_introduction/coordinate_reference_systems.html"
   ]
  }
 ],
 "metadata": {
  "kernelspec": {
   "display_name": "Python 3 (ipykernel)",
   "language": "python",
   "name": "python3"
  },
  "language_info": {
   "codemirror_mode": {
    "name": "ipython",
    "version": 3
   },
   "file_extension": ".py",
   "mimetype": "text/x-python",
   "name": "python",
   "nbconvert_exporter": "python",
   "pygments_lexer": "ipython3",
   "version": "3.11.5"
  }
 },
 "nbformat": 4,
 "nbformat_minor": 5
}
