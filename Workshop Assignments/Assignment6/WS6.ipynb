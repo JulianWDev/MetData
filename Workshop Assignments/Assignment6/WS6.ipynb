{
 "cells": [
  {
   "cell_type": "markdown",
   "id": "e2a55ed7-6de7-4cd2-a32c-70ba4606f4c2",
   "metadata": {},
   "source": [
    "<header>\n",
    "        <div style=\"overflow: auto;\">\n",
    "        <img src=\"./images/AMS_LogoRED3.png\" style=\"float: left;\" width=\"300\" />\n",
    "        <img src=\"./images/TUDelft.jpg\" style=\"float: right;\" />\n",
    "    </div>\n",
    "    <div style=\"text-align: center;\">\n",
    "        <h1> AMS Data1 </h1>\n",
    "        <h2>Workshop 6: Loose ends & Numpy</h2>\n",
    "        <h6>&copy; 2023, TU Delft. Hans Hoogenboom, Creative Commons</h6>     \n",
    "    </div>\n",
    "    <br>   \n",
    "    <br>\n",
    "</header>"
   ]
  },
  {
   "cell_type": "markdown",
   "id": "46dce6cb",
   "metadata": {},
   "source": [
    "# Python\n",
    "## Errors\n",
    "\n",
    "A division by zero results in an error..."
   ]
  },
  {
   "cell_type": "code",
   "execution_count": 1,
   "id": "4ab7be0d-7e49-45f2-b5a2-bf349d33f43c",
   "metadata": {},
   "outputs": [
    {
     "name": "stdout",
     "output_type": "stream",
     "text": [
      "0.4\n",
      "0.5\n"
     ]
    },
    {
     "ename": "ZeroDivisionError",
     "evalue": "division by zero",
     "output_type": "error",
     "traceback": [
      "\u001b[1;31m---------------------------------------------------------------------------\u001b[0m",
      "\u001b[1;31mZeroDivisionError\u001b[0m                         Traceback (most recent call last)",
      "\u001b[1;32mc:\\Users\\julia\\Git\\MetData\\Workshop Assignments\\Assignment6\\WS6.ipynb Cell 3\u001b[0m line \u001b[0;36m4\n\u001b[0;32m      <a href='vscode-notebook-cell:/c%3A/Users/julia/Git/MetData/Workshop%20Assignments/Assignment6/WS6.ipynb#W2sZmlsZQ%3D%3D?line=1'>2</a>\u001b[0m b \u001b[39m=\u001b[39m [\u001b[39m5\u001b[39m, \u001b[39m6\u001b[39m, \u001b[39m0\u001b[39m, \u001b[39m7\u001b[39m, \u001b[39m9\u001b[39m]\n\u001b[0;32m      <a href='vscode-notebook-cell:/c%3A/Users/julia/Git/MetData/Workshop%20Assignments/Assignment6/WS6.ipynb#W2sZmlsZQ%3D%3D?line=2'>3</a>\u001b[0m \u001b[39mfor\u001b[39;00m x, y \u001b[39min\u001b[39;00m \u001b[39mzip\u001b[39m(a, b):\n\u001b[1;32m----> <a href='vscode-notebook-cell:/c%3A/Users/julia/Git/MetData/Workshop%20Assignments/Assignment6/WS6.ipynb#W2sZmlsZQ%3D%3D?line=3'>4</a>\u001b[0m     \u001b[39mprint\u001b[39m(x \u001b[39m/\u001b[39;49m y)\n",
      "\u001b[1;31mZeroDivisionError\u001b[0m: division by zero"
     ]
    }
   ],
   "source": [
    "a = [2, 3, 5, 0, 9]\n",
    "b = [5, 6, 0, 7, 9]\n",
    "for x, y in zip(a, b):\n",
    "    print(x / y)"
   ]
  },
  {
   "cell_type": "markdown",
   "id": "31615303",
   "metadata": {},
   "source": [
    "Can we deal with errors intelligently?"
   ]
  },
  {
   "cell_type": "code",
   "execution_count": null,
   "id": "b697175e-6720-49ba-8862-427f1e62ebea",
   "metadata": {},
   "outputs": [
    {
     "name": "stdout",
     "output_type": "stream",
     "text": [
      "0.4\n",
      "0.5\n",
      "Division by zero?\n",
      "0.0\n",
      "1.0\n"
     ]
    }
   ],
   "source": [
    "a = [2, 3, 5, 0, 9]\n",
    "b = [5, 6, 0, 7, 9]\n",
    "for x, y in zip(a, b):\n",
    "    try:\n",
    "        print(x / y)\n",
    "    except:\n",
    "        print(\"Division by zero?\")"
   ]
  },
  {
   "cell_type": "markdown",
   "id": "b0339bf9",
   "metadata": {},
   "source": [
    "There are different kind of errors Python can catch. Here is a non exhaustive list:\n",
    "<br>[Exceptions](https://docs.python.org/3/library/exceptions.html#OSError) and [more exceptional](https://pythonbasics.org/try-except/)"
   ]
  },
  {
   "cell_type": "code",
   "execution_count": null,
   "id": "814194b5-5ee0-432d-865b-a04a9a9a0530",
   "metadata": {},
   "outputs": [
    {
     "name": "stdout",
     "output_type": "stream",
     "text": [
      "0.4\n",
      "0.5\n"
     ]
    },
    {
     "ename": "ZeroDivisionError",
     "evalue": "division by zero",
     "output_type": "error",
     "traceback": [
      "\u001b[1;31m---------------------------------------------------------------------------\u001b[0m",
      "\u001b[1;31mZeroDivisionError\u001b[0m                         Traceback (most recent call last)",
      "\u001b[1;32mc:\\Users\\julia\\Git\\MetData\\Workshop Assignments\\Assignment6\\WS6.ipynb Cell 7\u001b[0m line \u001b[0;36m5\n\u001b[0;32m      <a href='vscode-notebook-cell:/c%3A/Users/julia/Git/MetData/Workshop%20Assignments/Assignment6/WS6.ipynb#W6sZmlsZQ%3D%3D?line=2'>3</a>\u001b[0m \u001b[39mfor\u001b[39;00m x, y \u001b[39min\u001b[39;00m \u001b[39mzip\u001b[39m(a, b):\n\u001b[0;32m      <a href='vscode-notebook-cell:/c%3A/Users/julia/Git/MetData/Workshop%20Assignments/Assignment6/WS6.ipynb#W6sZmlsZQ%3D%3D?line=3'>4</a>\u001b[0m     \u001b[39mtry\u001b[39;00m:\n\u001b[1;32m----> <a href='vscode-notebook-cell:/c%3A/Users/julia/Git/MetData/Workshop%20Assignments/Assignment6/WS6.ipynb#W6sZmlsZQ%3D%3D?line=4'>5</a>\u001b[0m         \u001b[39mprint\u001b[39m(x \u001b[39m/\u001b[39;49m y)\n\u001b[0;32m      <a href='vscode-notebook-cell:/c%3A/Users/julia/Git/MetData/Workshop%20Assignments/Assignment6/WS6.ipynb#W6sZmlsZQ%3D%3D?line=5'>6</a>\u001b[0m     \u001b[39mexcept\u001b[39;00m \u001b[39mValueError\u001b[39;00m:\n\u001b[0;32m      <a href='vscode-notebook-cell:/c%3A/Users/julia/Git/MetData/Workshop%20Assignments/Assignment6/WS6.ipynb#W6sZmlsZQ%3D%3D?line=6'>7</a>\u001b[0m         \u001b[39mprint\u001b[39m(\u001b[39m\"\u001b[39m\u001b[39mDivision by zero?\u001b[39m\u001b[39m\"\u001b[39m)\n",
      "\u001b[1;31mZeroDivisionError\u001b[0m: division by zero"
     ]
    }
   ],
   "source": [
    "a = [2, 3, 5, 0, 9]\n",
    "b = [5, 6, 0, 7, 9]\n",
    "for x, y in zip(a, b):\n",
    "    try:\n",
    "        print(x / y)\n",
    "    except ValueError:\n",
    "        print(\"Division by zero?\")"
   ]
  },
  {
   "cell_type": "markdown",
   "id": "766abf98-7371-49a1-8e7f-65f4fd2607c9",
   "metadata": {},
   "source": [
    "Setting the correct type of error helps..."
   ]
  },
  {
   "cell_type": "code",
   "execution_count": null,
   "id": "c07d75ca-fb73-426b-8216-159400da0b9f",
   "metadata": {},
   "outputs": [
    {
     "name": "stdout",
     "output_type": "stream",
     "text": [
      "0.4\n",
      "0.5\n",
      "Division by zero?\n",
      "0.0\n",
      "1.0\n"
     ]
    }
   ],
   "source": [
    "a = [2, 3, 5, 0, 9]\n",
    "b = [5, 6, 0, 7, 9]\n",
    "for x, y in zip(a, b):\n",
    "    try:\n",
    "        print(x / y)\n",
    "    except ZeroDivisionError:\n",
    "        print(\"Division by zero?\")"
   ]
  },
  {
   "cell_type": "code",
   "execution_count": null,
   "id": "61fbf818-ddca-427a-856c-53f1c75c219d",
   "metadata": {},
   "outputs": [
    {
     "name": "stdout",
     "output_type": "stream",
     "text": [
      "Alejandro  gets a raise.\n",
      "Hans  gets a raise.\n",
      "Monica  gets a raise.\n",
      "[True, True, (True, True), True]\n"
     ]
    }
   ],
   "source": [
    "class NotFair(Exception):\n",
    "    pass\n",
    "\n",
    "employees = [\"Alejandro\", \"Hans\", \"You\", \"Monica\"]\n",
    "get_raise = [True, True, False, True]\n",
    "for y, z in zip(employees, get_raise):\n",
    "    try:\n",
    "        if z == True:\n",
    "            print(y, \" gets a raise.\")\n",
    "        if z == False and y == \"You\":\n",
    "            raise NotFair\n",
    "    except NotFair:\n",
    "        get_raise[2] = True, True\n",
    "\n",
    "print(get_raise)"
   ]
  },
  {
   "cell_type": "markdown",
   "id": "ba167844-e4b5-4cc5-ad1d-c2ae3e985e35",
   "metadata": {},
   "source": [
    "## And you thought you were unique?\n",
    "\n",
    "In Python everything is an object. Everything, even numbers?"
   ]
  },
  {
   "cell_type": "code",
   "execution_count": null,
   "id": "3e6aad9d-a6a4-49dd-989d-d4227bb67382",
   "metadata": {},
   "outputs": [
    {
     "data": {
      "text/plain": [
       "['__abs__',\n",
       " '__add__',\n",
       " '__and__',\n",
       " '__bool__',\n",
       " '__ceil__',\n",
       " '__class__',\n",
       " '__delattr__',\n",
       " '__dir__',\n",
       " '__divmod__',\n",
       " '__doc__',\n",
       " '__eq__',\n",
       " '__float__',\n",
       " '__floor__',\n",
       " '__floordiv__',\n",
       " '__format__',\n",
       " '__ge__',\n",
       " '__getattribute__',\n",
       " '__getnewargs__',\n",
       " '__getstate__',\n",
       " '__gt__',\n",
       " '__hash__',\n",
       " '__index__',\n",
       " '__init__',\n",
       " '__init_subclass__',\n",
       " '__int__',\n",
       " '__invert__',\n",
       " '__le__',\n",
       " '__lshift__',\n",
       " '__lt__',\n",
       " '__mod__',\n",
       " '__mul__',\n",
       " '__ne__',\n",
       " '__neg__',\n",
       " '__new__',\n",
       " '__or__',\n",
       " '__pos__',\n",
       " '__pow__',\n",
       " '__radd__',\n",
       " '__rand__',\n",
       " '__rdivmod__',\n",
       " '__reduce__',\n",
       " '__reduce_ex__',\n",
       " '__repr__',\n",
       " '__rfloordiv__',\n",
       " '__rlshift__',\n",
       " '__rmod__',\n",
       " '__rmul__',\n",
       " '__ror__',\n",
       " '__round__',\n",
       " '__rpow__',\n",
       " '__rrshift__',\n",
       " '__rshift__',\n",
       " '__rsub__',\n",
       " '__rtruediv__',\n",
       " '__rxor__',\n",
       " '__setattr__',\n",
       " '__sizeof__',\n",
       " '__str__',\n",
       " '__sub__',\n",
       " '__subclasshook__',\n",
       " '__truediv__',\n",
       " '__trunc__',\n",
       " '__xor__',\n",
       " 'as_integer_ratio',\n",
       " 'bit_count',\n",
       " 'bit_length',\n",
       " 'conjugate',\n",
       " 'denominator',\n",
       " 'from_bytes',\n",
       " 'imag',\n",
       " 'numerator',\n",
       " 'real',\n",
       " 'to_bytes']"
      ]
     },
     "execution_count": 5,
     "metadata": {},
     "output_type": "execute_result"
    }
   ],
   "source": [
    "dir(2)"
   ]
  },
  {
   "cell_type": "markdown",
   "id": "ff4bdd12-b504-4d1d-9570-d40e3b6e167f",
   "metadata": {},
   "source": [
    "What are the implications?"
   ]
  },
  {
   "cell_type": "code",
   "execution_count": null,
   "id": "e987ed8a-eaa0-4f33-b8aa-48c41f916e26",
   "metadata": {},
   "outputs": [
    {
     "data": {
      "text/plain": [
       "'???'"
      ]
     },
     "execution_count": 6,
     "metadata": {},
     "output_type": "execute_result"
    }
   ],
   "source": [
    "d  = [4, 9, 'abc', [3, 9]]\n",
    "e = d\n",
    "e[1] = 12\n",
    "\"???\""
   ]
  },
  {
   "cell_type": "code",
   "execution_count": null,
   "id": "c4710180-19cc-4b52-8d56-7f60e2a03959",
   "metadata": {},
   "outputs": [
    {
     "name": "stdout",
     "output_type": "stream",
     "text": [
      "[4, 12, 'abc', [3, {'1': 'first', 2: 'second'}]]\n"
     ]
    }
   ],
   "source": [
    "d[3][1] = {'1' : \"first\", 2 : 'second'}\n",
    "print(e)"
   ]
  },
  {
   "cell_type": "code",
   "execution_count": null,
   "id": "a352ee65-a6ea-4986-98fb-57bc8652d1ed",
   "metadata": {},
   "outputs": [],
   "source": [
    "f  = [4, 9, 'abc', [3, 9]]\n",
    "g = f\n",
    "f[3][1] = {'1' : \"first\", 2 : 'second'}\n",
    "print(f)\n",
    "print(g)"
   ]
  },
  {
   "cell_type": "code",
   "execution_count": null,
   "id": "b785c737-8d21-4d65-8ac9-9303b4721504",
   "metadata": {},
   "outputs": [],
   "source": [
    "from copy import deepcopy\n",
    "g = deepcopy(f)\n",
    "f[0] = 5\n",
    "g[1] = 14\n",
    "print(f)\n",
    "print(g)"
   ]
  },
  {
   "cell_type": "markdown",
   "id": "afcd00dd-e926-4deb-abe9-a4b109e9224c",
   "metadata": {},
   "source": [
    "With the deepcopy function you make a unique object. Something to be aware of."
   ]
  },
  {
   "cell_type": "markdown",
   "id": "f94c4c95-d2d9-450f-ac07-1eaa195cae20",
   "metadata": {},
   "source": [
    "# GIT\n",
    "\n",
    "![Git, so funny](./images/scared.jpg)\n",
    "\n",
    "`$ git config --global user.name \"John Doe\"`\n",
    "<br>`$ git config --global user.email johndoe@example.com`\n",
    "\n",
    "There is a [cheat sheet](https://about.gitlab.com/images/press/git-cheat-sheet.pdf)!\n",
    "\n",
    "[First baby steps](https://git-scm.com/book/en/v2/Getting-Started-First-Time-Git-Setup)"
   ]
  },
  {
   "cell_type": "markdown",
   "id": "af0fb536-9ff0-4f21-a10a-6aa3281ba2b2",
   "metadata": {
    "tags": []
   },
   "source": [
    "# Numpy\n",
    "\n",
    "### Introduction\n",
    "Numpy is a a Python library that provides the user with objects to create vectors and matrices. Numpy calls vectors and arrays multidimensional array objects and yes, in Numpy you can make 5 dimensional matrices whatever they are.  The library comes with a big set of routines for operating on vectors and nD matrices. Below you can find a very short introduction in the use of Numpy.\n",
    "\n",
    "We can import Numpy the following way:"
   ]
  },
  {
   "cell_type": "code",
   "execution_count": null,
   "id": "1caf879e-4104-46ad-9869-d427aa39efad",
   "metadata": {},
   "outputs": [],
   "source": [
    "import numpy as np"
   ]
  },
  {
   "cell_type": "markdown",
   "id": "05f2552d-b9c5-4a2b-823e-a95712457caa",
   "metadata": {},
   "source": [
    "There are several ways you can create a nD array in Numpy, e.g. use a list as input or an Excel/CSV file. Of course you can create an array directly using the following code:"
   ]
  },
  {
   "cell_type": "code",
   "execution_count": null,
   "id": "c2969b61-4b5c-44fc-b3b5-63e6cf957974",
   "metadata": {},
   "outputs": [
    {
     "name": "stdout",
     "output_type": "stream",
     "text": [
      "[1 2 3 4]\n",
      "<class 'numpy.ndarray'>\n",
      "[2 3 5]\n"
     ]
    }
   ],
   "source": [
    "a = np.array([1, 2, 3, 4])\n",
    "print(a)\n",
    "print(type(a))\n",
    "\n",
    "# or using a Python list to initialize an array\n",
    "b = [2, 3, 5]\n",
    "c = np.array(b)\n",
    "print(c)"
   ]
  },
  {
   "cell_type": "markdown",
   "id": "a17e568f-b968-490f-a9e9-ba3485668327",
   "metadata": {},
   "source": [
    "As said, Numpy has a lot of different methods to generate an nD array. Some we will discuss in this notebook but for an overview you can [visit this page](https://numpy.org/doc/stable/user/basics.creation.html).\n",
    "\n",
    "The [np.array](https://numpy.org/doc/stable/reference/generated/numpy.array.html#numpy.array) method creates an array object. The method has several arguments, the most important one being of course the data of which we want to make an array. The second most important one the type of the data, e.g an integer or a float. For scientific calculations we often want to be more precise. Numpy has several \"versions\" of integers and floats to deal with larger numbers or with numbers that need more decimals like \"long integers\" and \"[doubles](https://en.wikipedia.org/wiki/Double-precision_floating-point_format)\". See also the following pages of the Numpy documentation: [Data types](https://numpy.org/doc/stable/user/basics.types.html) and [Scalars, sized aliases](https://numpy.org/doc/stable/reference/arrays.scalars.html#sized-aliases). Below we redefine the vector a with 64 bit integers as data type. We can get the type of the data **in** the array by using the *dtype* property."
   ]
  },
  {
   "cell_type": "code",
   "execution_count": null,
   "id": "524fb73d-9ea9-4d25-8fcb-cc10fd689b84",
   "metadata": {},
   "outputs": [
    {
     "name": "stdout",
     "output_type": "stream",
     "text": [
      "int64\n"
     ]
    }
   ],
   "source": [
    "a = np.array([1, 2, 3, 4], dtype=np.int64)\n",
    "print(a.dtype)"
   ]
  },
  {
   "cell_type": "markdown",
   "id": "b51e89ba-316c-473e-8cdd-de59cc70cd4b",
   "metadata": {},
   "source": [
    "Below we create an array, which you probably would call a matrix. The matrix has three rows and three columns. The vector we created above and the matrix below are 4D and 3D in the physical world (e.g. a point in time and a transformation matrix of some geometry). For Numpy, the vector is a 1D array and the matrix a 2D object. Numpy works with axes. A Numpy object with 3 dimensions has 3 axes. Axis 0 points downwards, axis 1 horizontal, axis 2 points in and out of your screen and axis 4...well it is rather difficult to [visualize](https://researchblog.duke.edu/2017/04/26/visualizing-the-fourth-dimension/) that not to mention anything [more then 4D](https://qr.ae/pvV2gl)."
   ]
  },
  {
   "cell_type": "code",
   "execution_count": null,
   "id": "2873b0fc-fe58-4efd-8d7f-4537c2eccd94",
   "metadata": {},
   "outputs": [
    {
     "data": {
      "text/plain": [
       "array([[1, 2, 3],\n",
       "       [4, 5, 6],\n",
       "       [7, 8, 9]])"
      ]
     },
     "execution_count": 12,
     "metadata": {},
     "output_type": "execute_result"
    }
   ],
   "source": [
    "B = np.array([[1, 2, 3], [4, 5, 6], [7, 8, 9]])\n",
    "B"
   ]
  },
  {
   "cell_type": "markdown",
   "id": "11f558bc-c42e-49cf-a32e-73824729fd1f",
   "metadata": {},
   "source": [
    "As a convention, you use lower case letters to denote vectors and upper case for matrices. To get the \"Numpy\" dimension you can use the property *ndim*:"
   ]
  },
  {
   "cell_type": "code",
   "execution_count": null,
   "id": "32d232ab-016e-4f21-ba0e-0d3eee85d4a6",
   "metadata": {},
   "outputs": [
    {
     "name": "stdout",
     "output_type": "stream",
     "text": [
      "1\n",
      "2\n"
     ]
    }
   ],
   "source": [
    "print(a.ndim)\n",
    "print(B.ndim)"
   ]
  },
  {
   "cell_type": "markdown",
   "id": "eafc8fc8-3230-4054-9a6f-3935e661e004",
   "metadata": {},
   "source": [
    "But for most physical stuff we are often more interested in the *shape*:"
   ]
  },
  {
   "cell_type": "code",
   "execution_count": null,
   "id": "bed84793-2f8d-4114-94f1-f271ede780ae",
   "metadata": {},
   "outputs": [
    {
     "name": "stdout",
     "output_type": "stream",
     "text": [
      "(4,)\n",
      "(3, 3)\n"
     ]
    }
   ],
   "source": [
    "print(a.shape)\n",
    "print(B.shape)"
   ]
  },
  {
   "cell_type": "markdown",
   "id": "5de041cf-4c0d-4dc1-b4fb-118bbdc4804c",
   "metadata": {},
   "source": [
    "To get the number of elements in an array you can use the *size* property:"
   ]
  },
  {
   "cell_type": "code",
   "execution_count": null,
   "id": "6006b532-40a2-4f2a-8c48-9d6ae4e119bd",
   "metadata": {},
   "outputs": [
    {
     "name": "stdout",
     "output_type": "stream",
     "text": [
      "9\n"
     ]
    }
   ],
   "source": [
    "print(B.size)"
   ]
  },
  {
   "cell_type": "markdown",
   "id": "9d44c45b-5af7-4224-9dca-f65e29f6a732",
   "metadata": {},
   "source": [
    "### Slicing\n",
    "\n",
    "You can retrieve data from an vector or matrix using indexing or slicing:"
   ]
  },
  {
   "cell_type": "code",
   "execution_count": null,
   "id": "adb3d995-c30b-4ee5-b866-7196fef1e5ec",
   "metadata": {},
   "outputs": [
    {
     "name": "stdout",
     "output_type": "stream",
     "text": [
      "row: \n",
      " [4 5 6]\n",
      "element: \n",
      " 5\n",
      "column: \n",
      " [2 5 8]\n",
      "all rows and first and last column: \n",
      " [[1 3]\n",
      " [4 6]\n",
      " [7 9]]\n"
     ]
    }
   ],
   "source": [
    "# get the second row\n",
    "print(\"row: \\n\", B[1])\n",
    "\n",
    "# get the second element on the second row\n",
    "print(\"element: \\n\", B[1, 1])\n",
    "\n",
    "# \n",
    "print(\"column: \\n\", B[:, 1])\n",
    "print(\"all rows and first and last column: \\n\", B[:, [0, 2]])"
   ]
  },
  {
   "cell_type": "markdown",
   "id": "2d8145d1-03d6-44ff-aefa-84db1497a0e0",
   "metadata": {},
   "source": [
    "Like in Python you can use a range of numbers to create an array. There is an [arange](https://numpy.org/doc/stable/reference/generated/numpy.arange.html) method and there are several \\*space methods like linear space, [linspace](https://numpy.org/doc/stable/reference/generated/numpy.linspace.html), logarithmic space, logpsace etc. The linspace method is comparable to creating a domain/range of numbers in Grasshopper. Using the above methods you get a vector of numbers. You can shape them into a matrix using the [reshape](https://numpy.org/doc/stable/reference/generated/numpy.reshape.html) method. The opposite of a reshape is a flatten method:"
   ]
  },
  {
   "cell_type": "code",
   "execution_count": null,
   "id": "a26cdc8f-73c5-405e-9d42-9fc9b50f7a0f",
   "metadata": {},
   "outputs": [
    {
     "name": "stdout",
     "output_type": "stream",
     "text": [
      "[ 0  1  2  3  4  5  6  7  8  9 10 11 12 13 14 15 16 17 18 19] \n",
      "\n",
      "[[ 0  1  2  3  4]\n",
      " [ 5  6  7  8  9]\n",
      " [10 11 12 13 14]\n",
      " [15 16 17 18 19]] \n",
      "\n",
      "[[ 6  7  8]\n",
      " [11 12 13]] \n",
      "\n",
      "[ 6  7  8 11 12 13] \n",
      "\n",
      "[[ 6  7]\n",
      " [ 8 11]\n",
      " [12 13]]\n"
     ]
    }
   ],
   "source": [
    "# create some numbers, 0 t0 20. You can use the Python \n",
    "# range syntax to set the start, end and steps\n",
    "my_matr = np.arange(20)\n",
    "print(my_matr, '\\n')\n",
    "\n",
    "# convert the vector into a matrix\n",
    "my_matr = my_matr.reshape(4, 5)\n",
    "print(my_matr, '\\n')\n",
    "\n",
    "# copy some rows and columns from my_matr to create a new matrix\n",
    "# using slicing\n",
    "Center = my_matr[1:3, 1:4]\n",
    "print(Center, '\\n')\n",
    "\n",
    "# convert the matrix to a vector\n",
    "center = Center.flatten()\n",
    "print(center, '\\n')\n",
    "\n",
    "# and reshape it again into a matrix\n",
    "print(center.reshape(3, 2))"
   ]
  },
  {
   "cell_type": "markdown",
   "id": "90394f67-9afe-4401-9c52-51d3392cb84d",
   "metadata": {},
   "source": [
    "Multi dimensional arrays were mentioned a fews times. How can you create them and what do they look like? Below an example of a 4 dimensional array:"
   ]
  },
  {
   "cell_type": "code",
   "execution_count": null,
   "id": "f1fcd4f6-179c-49ca-a9be-b4b2b678fc04",
   "metadata": {},
   "outputs": [
    {
     "name": "stdout",
     "output_type": "stream",
     "text": [
      "[[[[0. 0. 0. 0.]\n",
      "   [0. 0. 0. 0.]\n",
      "   [0. 0. 0. 0.]]\n",
      "\n",
      "  [[0. 0. 0. 0.]\n",
      "   [0. 0. 0. 0.]\n",
      "   [0. 0. 0. 0.]]]\n",
      "\n",
      "\n",
      " [[[0. 0. 0. 0.]\n",
      "   [0. 0. 0. 0.]\n",
      "   [0. 0. 0. 0.]]\n",
      "\n",
      "  [[0. 0. 0. 0.]\n",
      "   [0. 0. 0. 0.]\n",
      "   [0. 0. 0. 0.]]]\n",
      "\n",
      "\n",
      " [[[0. 0. 0. 0.]\n",
      "   [0. 0. 0. 0.]\n",
      "   [0. 0. 0. 0.]]\n",
      "\n",
      "  [[0. 0. 0. 0.]\n",
      "   [0. 0. 0. 0.]\n",
      "   [0. 0. 0. 0.]]]] \n",
      "dims:  4 \n",
      "shape:  (3, 2, 3, 4) \n",
      "size:  72\n"
     ]
    }
   ],
   "source": [
    "weird = np.zeros((3, 2, 3, 4))\n",
    "print(weird, \"\\ndims: \", weird.ndim, \"\\nshape: \", weird.shape, \"\\nsize: \", weird.size)"
   ]
  },
  {
   "cell_type": "markdown",
   "id": "f38cd90a-21ff-41e7-801a-1873fe13b47a",
   "metadata": {},
   "source": [
    "You can easily figure out the dimension of an array by counting the number of **\\[** when declaring an array.\n",
    "\n",
    "Below a few more Numpy methods to create arrays and vectors. When you create an empty array with a certain number of elements, the array is not initialized: it will be filled with random data! Always initialize data before you use it..."
   ]
  },
  {
   "cell_type": "code",
   "execution_count": null,
   "id": "252a2ab6-6de1-475b-8d12-dd24337e99e1",
   "metadata": {},
   "outputs": [
    {
     "name": "stdout",
     "output_type": "stream",
     "text": [
      "[2.12199579e-314 1.17770766e-311 5.53353523e-321]\n",
      "[1. 1. 1.]\n",
      "[0. 0. 0.]\n",
      "[0.4779191  0.1756314  0.37423765]\n",
      "[0 1 2]\n",
      "[0 3 6 9]\n"
     ]
    }
   ],
   "source": [
    "print(np.empty(3))\n",
    "print(np.ones(3))\n",
    "print(np.zeros(3))\n",
    "print(np.random.rand(3))\n",
    "print(np.arange(3))\n",
    "print(np.arange(0, 11, 3))"
   ]
  },
  {
   "cell_type": "code",
   "execution_count": null,
   "id": "5210cb87-7b05-4080-90ac-fb1357e81b01",
   "metadata": {},
   "outputs": [],
   "source": [
    "# above we created vectors, below some matrix variants\n",
    "# float is the default type, use dtype to change this\n",
    "print(np.zeros((2, 2, 3)), \"\\n\")\n",
    "print(np.ones((3, 3), dtype=int))"
   ]
  },
  {
   "cell_type": "markdown",
   "id": "7affa1e3-0e68-4e0a-a364-d45482685ccc",
   "metadata": {},
   "source": [
    "### Merging nD arrays\n",
    "Sometimes you want to merge arrays, like in plain Python, appending or extending a list. In Numpy there is one general method called concatenate that does this for you. For convenience there are two other methods called vstack and hstack. Let's see what they do.\n",
    "\n",
    "We create two matrices and want to add them together (element by element addition):"
   ]
  },
  {
   "cell_type": "code",
   "execution_count": null,
   "id": "98207557-1655-4d4b-a084-eb2bf844335c",
   "metadata": {},
   "outputs": [],
   "source": [
    "import numpy as np\n",
    "A = np.arange(20).reshape(4, 5)\n",
    "B = np.arange(15).reshape(3, 5)\n",
    "print(A, '\\n')\n",
    "print(B, '\\n')\n",
    "C = A + B"
   ]
  },
  {
   "cell_type": "markdown",
   "id": "e1883c39-34f9-4f64-acdf-1cbac0b5e128",
   "metadata": {},
   "source": [
    "The error message might be a bit esoteric but it tells you that you want to add arrays of different dimensions together. This is not allowed in Numpy. How can we fix this. Well, we can add a row of zeros to B so A and B have the same shape."
   ]
  },
  {
   "cell_type": "code",
   "execution_count": null,
   "id": "c1b72496-d1d8-417e-b29a-111aa6073ff1",
   "metadata": {},
   "outputs": [],
   "source": [
    "zero_row = np.array([0, 0, 0, 0, 0])\n",
    "#D = np.append(zero_row, ini_array, axis = 0)\n",
    "B = np.vstack([B, zero_row])\n",
    "print(A.shape)\n",
    "print(B.shape)"
   ]
  },
  {
   "cell_type": "markdown",
   "id": "aee8a044-8495-4bae-ac0d-49224f6fd29b",
   "metadata": {},
   "source": [
    "Now we can add them together:"
   ]
  },
  {
   "cell_type": "code",
   "execution_count": null,
   "id": "ba67a944-7e27-4338-9e80-9b8ac21d832f",
   "metadata": {},
   "outputs": [],
   "source": [
    "C = A + B\n",
    "print(C)"
   ]
  },
  {
   "cell_type": "markdown",
   "id": "94148e97-7ef4-4191-a2fb-eda4c1a213c5",
   "metadata": {},
   "source": [
    "Another way to add rows and columns to a 2D array is using the np.c_ (for column) or the np.r_ (for rows) \"functions\". They have a weird construct since they don't use parentheses but the square brackets."
   ]
  },
  {
   "cell_type": "code",
   "execution_count": null,
   "id": "78387bf8-ec0b-4321-a1ce-6ee03be6cdc8",
   "metadata": {},
   "outputs": [],
   "source": [
    "D = np.array([[0, 1, 2], [0, 2, 0]])\n",
    "new_col = [1, 2]\n",
    "print(D.shape)\n",
    "print(D.ndim)\n",
    "D = np.c_[D, new_col]\n",
    "new_row = [4, 4 , 4, 4]\n",
    "# do note the double []\n",
    "D = np.r_[D, [new_row]]\n",
    "print(D.shape)\n",
    "print(D.ndim)\n",
    "print(D)"
   ]
  },
  {
   "cell_type": "markdown",
   "id": "3af313ab-8a07-4ad8-b1cc-4f64869d79a2",
   "metadata": {},
   "source": [
    "### Calculating with arrays\n",
    "\n",
    "There are several methods which allow you to calculate with arrays, e.g. vector and matrix multiplication. You would be surprised though that for multiplication the outcome is not what you expect if you followed any linear algebra courses."
   ]
  },
  {
   "cell_type": "code",
   "execution_count": null,
   "id": "345bc625-60fa-494a-b470-5738f720c89d",
   "metadata": {},
   "outputs": [],
   "source": [
    "a = np.array([2, 3, 4])\n",
    "B = np.array([[2, 2, 2], [3, 3, 3], [ 4, 4, 0]])\n",
    "print(B, \"\\n\\n\", a * B)"
   ]
  },
  {
   "cell_type": "markdown",
   "id": "55496234-8700-480f-af52-dfa6b8bfb41a",
   "metadata": {},
   "source": [
    "Numpy multiplies by element by default. In normal mathematics a * B should have produced the vector \\[12. 18, 16\\]! Numpy uses the \\@ symbol for multiplying vectors and matrices the expected way. You can also use the *matmul* method."
   ]
  },
  {
   "cell_type": "code",
   "execution_count": null,
   "id": "80f16685-a13a-4326-bc81-e6726bfc154a",
   "metadata": {},
   "outputs": [],
   "source": [
    "print(a @ B)\n",
    "print(np.matmul(a, B))"
   ]
  },
  {
   "cell_type": "markdown",
   "id": "7a83c9a9-c5e1-4817-8d5b-da623faeafcb",
   "metadata": {},
   "source": [
    "You can use the *[sum](https://numpy.org/doc/stable/reference/generated/numpy.sum.html)* method to sum over the whole matrix or use the *axis* to indicate if you want to sume columns or rows."
   ]
  },
  {
   "cell_type": "code",
   "execution_count": null,
   "id": "86b5e5ea-d08c-4cd0-917e-58be2fda041f",
   "metadata": {},
   "outputs": [],
   "source": [
    "print(B.sum())\n",
    "print(B.sum(axis = 1))\n",
    "print(B.sum(axis = 0))"
   ]
  },
  {
   "cell_type": "markdown",
   "id": "5c475f7e-7bbe-4f33-ad08-4df4bdf8287a",
   "metadata": {},
   "source": [
    "Or find the minimum and maximum value:"
   ]
  },
  {
   "cell_type": "code",
   "execution_count": null,
   "id": "73f3b5d3-52eb-4cff-b852-56b107902c94",
   "metadata": {},
   "outputs": [],
   "source": [
    "print(B.min(), B.max())"
   ]
  },
  {
   "cell_type": "markdown",
   "id": "f2eb45e3-2865-4237-9eaf-9fc050716b8d",
   "metadata": {},
   "source": [
    "In maths and phyiscs we often [transpose](https://en.wikipedia.org/wiki/Transpose) a matrix, e.g. columns become rows, rows become columns:"
   ]
  },
  {
   "cell_type": "code",
   "execution_count": null,
   "id": "1d1c88c1-4411-49bc-935f-6928da5927fd",
   "metadata": {},
   "outputs": [],
   "source": [
    "print(B.transpose())"
   ]
  },
  {
   "cell_type": "markdown",
   "id": "a4d08b27-75b4-4237-ba13-54c3de072a1c",
   "metadata": {},
   "source": [
    "The [dot](https://en.wikipedia.org/wiki/Dot_product) product of two vectors can be calculated using the *vdot* method:"
   ]
  },
  {
   "cell_type": "code",
   "execution_count": null,
   "id": "f853f30d-8518-4ef1-ab6c-964f8df00e55",
   "metadata": {},
   "outputs": [],
   "source": [
    "a = np.array([4, 2, 0])\n",
    "b = np.array([3, 1, 0])\n",
    "c = np.array([-0.5, 1, 0])\n",
    "print(a @ b)\n",
    "print(np.vdot(a, c))"
   ]
  },
  {
   "cell_type": "markdown",
   "id": "5d80f74c-4a52-465d-affe-3b347643ff72",
   "metadata": {},
   "source": [
    "If you use normalized vectors, that is vectors with the unit length of 1, the dot product will return the cosine between the two vectors. Unlike Grasshopper where we have a *unit vector* component, there is no method in Numpy. To unitize a vector we need to divide the vector by its length. Then we can use the dot product to calcuate the angle:"
   ]
  },
  {
   "cell_type": "code",
   "execution_count": null,
   "id": "c0dc5c37-3bf4-40a7-85a1-eb7fcc13b385",
   "metadata": {},
   "outputs": [],
   "source": [
    "# a**2 is the same as a @ a, then we sum and finally we take the square root\n",
    "# just standard Pythagoras...\n",
    "a_norm = a / np.sqrt(np.sum(a ** 2))\n",
    "print(a)\n",
    "\n",
    "b_norm = b / np.sqrt(np.sum(b ** 2))\n",
    "c_norm = c / np.sqrt(np.sum(c ** 2))\n",
    "\n",
    "print(a_norm @ b_norm)\n",
    "print(np.vdot(a_norm, c_norm))"
   ]
  },
  {
   "cell_type": "markdown",
   "id": "3aed51d5-c236-4915-b9fa-f4e2e206158d",
   "metadata": {},
   "source": [
    "The [cross product](https://en.wikipedia.org/wiki/Cross_product) of two vectors gives a third vector perpendicular to these vectors. It is not commutative. The length of the perpendicular vector is the area spanned by the other two vectors."
   ]
  },
  {
   "cell_type": "code",
   "execution_count": null,
   "id": "0d5146f9-ad9b-487e-8c6c-a1a0be3092fd",
   "metadata": {},
   "outputs": [],
   "source": [
    "x = np.array([1, 0, 0])\n",
    "y = np.array([0, 1, 0])\n",
    "print(np.cross(x, y))"
   ]
  },
  {
   "cell_type": "markdown",
   "id": "a467f69e-9817-4901-8608-72e94fda0985",
   "metadata": {},
   "source": [
    "What does the cross product of y and x return?\n",
    "\n",
    "The outer product of two vectors produces a matrix. In physics this is called a [tensor](https://en.wikipedia.org/wiki/Tensor). In solid mechanics tensors are used to describe the relation between a force and the surface upon which this force is acting (a layman's explanation...)."
   ]
  },
  {
   "cell_type": "code",
   "execution_count": null,
   "id": "d56d5e3b-6e29-42b4-82ce-cd4251dc51a9",
   "metadata": {},
   "outputs": [],
   "source": [
    "u = np.array([4, 2, 3])\n",
    "v = np.array([2, 3, 2])\n",
    "print(np.outer(u, v))"
   ]
  },
  {
   "cell_type": "markdown",
   "id": "c4a5cd44-3d2a-47f4-9987-7cc346b2b046",
   "metadata": {},
   "source": [
    "Above we saw that there were many methods to create an array. Below two more methods for creating arrays. One for creating an [identity](https://en.wikipedia.org/wiki/Identity_matrix) matrix. In physics and Finite Element literature the identity matrix is often called the [Kronecker delta](https://en.wikipedia.org/wiki/Kronecker_deltahttps://en.wikipedia.org/wiki/Kronecker_delta)."
   ]
  },
  {
   "cell_type": "code",
   "execution_count": null,
   "id": "3be6ca5f-abee-4132-9c79-f2296f5d25de",
   "metadata": {},
   "outputs": [],
   "source": [
    "np.identity(3)"
   ]
  },
  {
   "cell_type": "markdown",
   "id": "69ad26e3-0188-4af2-9a01-bac828f0378c",
   "metadata": {},
   "source": [
    "Or we can create a diagonal matrix with some values:"
   ]
  },
  {
   "cell_type": "code",
   "execution_count": null,
   "id": "01b19e1e-6fd9-4dff-a403-8f7f348013a1",
   "metadata": {},
   "outputs": [],
   "source": [
    "d = np.array([1, 2, 3])\n",
    "dd = np.diag(d)\n",
    "dd"
   ]
  },
  {
   "cell_type": "markdown",
   "id": "47897b0e-4270-4ebf-a8e8-3415c4ef26b9",
   "metadata": {},
   "source": [
    "We can use the *[trace](https://en.wikipedia.org/wiki/Trace_(linear_algebra))* method to calculate the trace, the sum of the diagonal of a matrix:"
   ]
  },
  {
   "cell_type": "code",
   "execution_count": null,
   "id": "829c00f4-9228-4508-a92e-910c877ef154",
   "metadata": {},
   "outputs": [],
   "source": [
    "print(dd.trace())"
   ]
  },
  {
   "cell_type": "markdown",
   "id": "8ea6fb2b-df52-4cd6-8e77-0435fdac2aaa",
   "metadata": {},
   "source": [
    "If you have a system of equations, like when with a FEM problem, and you are working within the limits of the yield strength of a material you will have a [system of linear equations](https://en.wikipedia.org/wiki/System_of_linear_equations). In this case you can use the *solve* method from Numpy's *linalg* library."
   ]
  },
  {
   "cell_type": "code",
   "execution_count": null,
   "id": "fd9af0d4-b366-4e9b-9bc5-465f075d211b",
   "metadata": {},
   "outputs": [],
   "source": [
    "u = np.array([2, 3])\n",
    "V = np.array([[1, 4], [3, 2]])\n",
    "solution = np.linalg.solve(V, u)\n",
    "print(solution)"
   ]
  },
  {
   "cell_type": "markdown",
   "id": "2c1f618f-3df7-45db-aac7-bace4fed683d",
   "metadata": {},
   "source": [
    "You can only solve a system of linear equations if the determinant of the matrix is larger then 0."
   ]
  },
  {
   "cell_type": "code",
   "execution_count": null,
   "id": "e331ed7b-847d-4f46-b848-19dd3236a453",
   "metadata": {},
   "outputs": [],
   "source": [
    "V_det = np.linalg.det(V)\n",
    "print(V_det)\n",
    "\n",
    "u = np.array([1, 2, 1])\n",
    "W = np.array([[1.5, 1, 2], [2, 2, 2], [3, 2, 4]])\n",
    "print(np.linalg.det(W))\n",
    "print(W)\n",
    "\n",
    "# error!\n",
    "solution = np.linalg.solve(W, u)\n",
    "print(solution)"
   ]
  },
  {
   "cell_type": "markdown",
   "id": "fb14fb15-0564-40d9-a220-0c4dc2891a49",
   "metadata": {},
   "source": [
    "If any colum or row in a matrix can be multiplied by a certain number and that results in a vector that is similar to another or or column in that matrix, you have no solution for that matrix (you get the warning above about the matrix being singular). If you multiply the first row of matrix W you get the third row of the matrix. To make a visual repersentation of this, suppose you want to calculate the vector perpendicular to two parallel vectors, how many solutions would you have?\n",
    "\n",
    "In the Linear Algebra library of Numpy there are also functions and methods to deal with *eigenvalues* and *eigenvectors* of matrices. \n",
    "<br>[Eigenvectors in Machine Learning](https://jonathan-hui.medium.com/machine-learning-linear-algebra-eigenvalue-and-eigenvector-f8d0493564c9)\n",
    "<br>![Eignevectors](./images/eigenvectors.png)"
   ]
  },
  {
   "cell_type": "code",
   "execution_count": null,
   "id": "ebc6448b-9ac0-4953-8a86-3f16e7a0b8a2",
   "metadata": {},
   "outputs": [],
   "source": [
    "from numpy import linalg as LA\n",
    "W = np.random.rand(9).reshape(3,3)\n",
    "print(W, '\\n')\n",
    "eigenvalues, eigenvectors = LA.eig(W)\n",
    "print(eigenvalues)\n",
    "print(eigenvectors)"
   ]
  },
  {
   "cell_type": "markdown",
   "id": "9c508991-b87a-4eb8-9ecc-6de6e384c655",
   "metadata": {},
   "source": [
    "For more tutorials see:\n",
    "<br>[W3Schools Numpy](https://www.w3schools.com/python/numpy/default.asp)\n",
    "<br>[Numpy Illustrated](https://betterprogramming.pub/numpy-illustrated-the-visual-guide-to-numpy-3b1d4976de1d)\n",
    "<br>[Numpy Tutorials](https://numpy.org/numpy-tutorials/)\n",
    "\n",
    "Hans Hoogenboom</br>\n",
    "Design Informatics</br>\n",
    "2023 &copy;"
   ]
  }
 ],
 "metadata": {
  "kernelspec": {
   "display_name": "Python 3 (ipykernel)",
   "language": "python",
   "name": "python3"
  },
  "language_info": {
   "codemirror_mode": {
    "name": "ipython",
    "version": 3
   },
   "file_extension": ".py",
   "mimetype": "text/x-python",
   "name": "python",
   "nbconvert_exporter": "python",
   "pygments_lexer": "ipython3",
   "version": "3.11.6"
  }
 },
 "nbformat": 4,
 "nbformat_minor": 5
}
