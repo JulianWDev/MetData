{
 "cells": [
  {
   "cell_type": "markdown",
   "id": "90782784-83e2-4e1c-b6f9-a1e461f3cb88",
   "metadata": {},
   "source": [
    "<header>\n",
    "        <div style=\"overflow: auto;\">\n",
    "        <img src=\"./images/AMS_LogoRED3.png\" style=\"float: left;\" width=\"300\" />\n",
    "        <img src=\"./images/TUDelft.jpg\" style=\"float: right;\" />\n",
    "    </div>\n",
    "    <div style=\"text-align: center;\">\n",
    "        <h1> AMS Data1 </h1>\n",
    "        <h2>Workshop 7: Pretty Plots in Python</h2>\n",
    "        <h6>&copy; 2023, TU Delft. Hans Hoogenboom, Creative Commons</h6>     \n",
    "    </div>\n",
    "    <br>   \n",
    "    <br>\n",
    "</header>"
   ]
  },
  {
   "cell_type": "markdown",
   "id": "04caf2bb-8c89-4464-93c4-fe44c6056126",
   "metadata": {},
   "source": [
    "## Folium\n",
    "\n",
    "Folium is a Python library based on the [Leaflet.js](https://leafletjs.com/) Javascript library. Both are popular libraries for creating tile based maps. [Tile based](https://en.wikipedia.org/wiki/Tiled_web_map) maps are an alternative to methods like Web Map Services (WMS), a protocol used heavily by PDOK.\n",
    "\n"
   ]
  },
  {
   "cell_type": "code",
   "execution_count": null,
   "id": "9c450c94-5de4-470b-9f1f-7d81dd9ff2be",
   "metadata": {},
   "outputs": [],
   "source": [
    "import folium\n",
    "m = folium.Map(location=(52.3136, 4.8250))\n",
    "m"
   ]
  },
  {
   "cell_type": "markdown",
   "id": "deab794c-f4fc-4f7e-bd04-d93913daa7fa",
   "metadata": {},
   "source": [
    "By default Folium will use the OpenStreetMap tile set but you can choose a different one by specifying the option *tile=\"something\"* to the *Map* method. Foloium supports the following tile sets:\n",
    "\n",
    "* OpenStreetMap\n",
    "* Mapbox\n",
    "* Mapbox Bright\n",
    "* Mapbox Control Room\n",
    "* Stamen, Terrain, Toner, Watercolor\n",
    "* Cloudmade\n",
    "* CartoDB, positron, dark_matter\n",
    "\n",
    "The Mapbox service needs an API Key (can be requested on their site) and the two other Mapbox tiles have limited functionality (zoom levels and number of tiles)\n",
    "\n",
    "\n"
   ]
  },
  {
   "cell_type": "code",
   "execution_count": null,
   "id": "bb4b84a7-b1be-4790-bfa4-7929b53d2510",
   "metadata": {},
   "outputs": [],
   "source": [
    "m_lower = folium.Map(location=(43.3136, 4.8250), tiles=\"CartoDB positron\")\n",
    "m_lower"
   ]
  },
  {
   "cell_type": "markdown",
   "id": "68a3979c-4b4c-460a-b49c-9577e78366ad",
   "metadata": {},
   "source": [
    "As you might expect there are a lot more options to control the display of the map. Below we create a map with the AMS as center and locked scrolling and panning. Documentation can be found [here](https://python-visualization.github.io/folium/latest/reference.html#module-folium.folium)"
   ]
  },
  {
   "cell_type": "code",
   "execution_count": null,
   "id": "b009e5f3-f3c5-4430-ae1f-88af5243635c",
   "metadata": {},
   "outputs": [],
   "source": [
    "AMS = folium.Map(location=[52.3737966,4.9148386],\n",
    "               zoom_start=5,\n",
    "               zoom_control=False,\n",
    "               scrollWheelZoom=False,\n",
    "               dragging=False)\n",
    "AMS"
   ]
  },
  {
   "cell_type": "markdown",
   "id": "177985fe-397b-4231-936a-56aa8b6ed458",
   "metadata": {},
   "source": [
    "You can add markers to a map using the *Markers* method. Let's add all the AirBnB locations from Amsterdam Centrum-West on the map. We open the listings.csv and create a Geopandas dataframe. We only want the entries with the value *Centrum-West* in the neighbourhood column. We create a list with *Shapely* points bsaed on the longitude and latitude. For the markers on the map we don't want all the data, just a few columns."
   ]
  },
  {
   "cell_type": "code",
   "execution_count": null,
   "id": "066dd7e5-8203-4b9a-af9f-3d94726d2a51",
   "metadata": {},
   "outputs": [],
   "source": [
    "import geopandas\n",
    "\n",
    "airbnb = geopandas.read_file('./data/listings.csv')\n",
    "print(airbnb.columns)\n",
    "df_west = airbnb.loc[airbnb['neighbourhood'] == \"Centrum-West\"]\n",
    "geometry = geopandas.points_from_xy(df_west.longitude, df_west.latitude)\n",
    "df_plot_data = geopandas.GeoDataFrame(df_west[['id', 'host_name', 'latitude', 'longitude', 'price']], geometry=geometry)\n",
    "df_plot_data.head()"
   ]
  },
  {
   "cell_type": "markdown",
   "id": "e012fd74-2319-4753-ae79-62c75b27087c",
   "metadata": {},
   "source": [
    "We create a new AMS map with some other options that control the map. We zoomed in a bit more, set the width and height of the frame of the map and added a scale bar."
   ]
  },
  {
   "cell_type": "code",
   "execution_count": null,
   "id": "850e12a3-3c83-4375-9d1b-129e7e369a23",
   "metadata": {},
   "outputs": [],
   "source": [
    "AMS = folium.Map(location=(52.3737966,4.9148386), width='80%', height='80%', zoom_start=14, control_scale=True)\n",
    "AMS"
   ]
  },
  {
   "cell_type": "markdown",
   "id": "e99ad7fc-7578-49bf-b0fc-246f27dca640",
   "metadata": {},
   "source": [
    "The points we created are not yet readable by Folium so we need to convert them to something a bit more simple. Let's examine one point:"
   ]
  },
  {
   "cell_type": "code",
   "execution_count": null,
   "id": "06f9364f-e1f4-478b-8622-aa0a904f647b",
   "metadata": {},
   "outputs": [],
   "source": [
    "point = df_plot_data.iloc[2, df_plot_data.columns.get_loc('geometry')]\n",
    "print(type(point))\n",
    "print(point)"
   ]
  },
  {
   "cell_type": "markdown",
   "id": "5d508dd5-9646-474d-9a16-d3f07db631a4",
   "metadata": {},
   "source": [
    "In the documentation of [Shapely]('https://shapely.readthedocs.io/en/stable/reference/shapely.Point.html#shapely.Point') we can find what we can do with the point object. The *xy* method will seperate the coordinates of a point into seperate values. We create a simple list of the coordinates which we can use later as coordinate for the *markers*."
   ]
  },
  {
   "cell_type": "code",
   "execution_count": null,
   "id": "6df700f6-b14d-4797-9460-89ea01882574",
   "metadata": {},
   "outputs": [],
   "source": [
    "geo_df_list = [[point.xy[1][0], point.xy[0][0]] for point in df_plot_data.geometry]\n",
    "#print(geo_df_list)"
   ]
  },
  {
   "cell_type": "code",
   "execution_count": null,
   "id": "189e37b0-6f80-43eb-b241-2884d53405d4",
   "metadata": {},
   "outputs": [],
   "source": [
    "for i, row in df_plot_data.iterrows():\n",
    "    print(i)"
   ]
  },
  {
   "cell_type": "markdown",
   "id": "9ad64125-93f3-4da4-a289-bbff6a76e7bd",
   "metadata": {},
   "source": [
    "The [*Marker*](https://python-visualization.github.io/folium/latest/reference.html#folium.map.Marker) method in Folium let's you create points on the map. It needs a location and optionally a [*popup*](https://python-visualization.github.io/folium/latest/reference.html#folium.map.Popup), text to display, a tooltip and an icon. We iterate/loop over the data and the marker element to the map using the *add_child* method."
   ]
  },
  {
   "cell_type": "code",
   "execution_count": null,
   "id": "6abb7737-1941-4192-9cce-a93177375ae2",
   "metadata": {},
   "outputs": [],
   "source": [
    "i = 0\n",
    "for row_index, row in df_plot_data.iterrows():\n",
    "    mark =  folium.Marker(\n",
    "                location=geo_df_list[i],\n",
    "                popup=(\n",
    "                \"Name: \"\n",
    "                + str(df_plot_data.host_name[row_index])\n",
    "                + \"<br>\" +\n",
    "                \"Id: \"\n",
    "                + str(df_plot_data.id[row_index])\n",
    "                + \"<br>\" +\n",
    "                \"Price: \"\n",
    "                + str(df_plot_data.price[row_index])\n",
    "                #icon=folium.Icon(color=\"%s\" % type_color),\n",
    "                )\n",
    "            )\n",
    "    i += 1\n",
    "    AMS.add_child(mark)"
   ]
  },
  {
   "cell_type": "markdown",
   "id": "0980bd5e-4638-476c-9e0e-23d170bb926e",
   "metadata": {},
   "source": [
    "We added all the data to the map so now we can display it:"
   ]
  },
  {
   "cell_type": "code",
   "execution_count": null,
   "id": "608f6084-cdb1-40d8-a74a-876a6e02354c",
   "metadata": {},
   "outputs": [],
   "source": [
    "AMS"
   ]
  },
  {
   "cell_type": "markdown",
   "id": "9c508991-b87a-4eb8-9ecc-6de6e384c655",
   "metadata": {},
   "source": [
    "## Links\n",
    "[Folium site](https://python-visualization.github.io/folium/latest/index.html)\n",
    "\n",
    "[GeoPandas and Folium](https://geopandas.org/en/stable/gallery/plotting_with_folium.html)\n",
    "\n",
    "[Medium Introduction](https://medium.com/datasciencearth/map-visualization-with-folium-d1403771717)\n",
    "\n",
    "Hans Hoogenboom</br>\n",
    "Design Informatics</br>\n",
    "2023 &copy;"
   ]
  }
 ],
 "metadata": {
  "kernelspec": {
   "display_name": "Python 3 (ipykernel)",
   "language": "python",
   "name": "python3"
  },
  "language_info": {
   "codemirror_mode": {
    "name": "ipython",
    "version": 3
   },
   "file_extension": ".py",
   "mimetype": "text/x-python",
   "name": "python",
   "nbconvert_exporter": "python",
   "pygments_lexer": "ipython3",
   "version": "3.11.5"
  }
 },
 "nbformat": 4,
 "nbformat_minor": 5
}
