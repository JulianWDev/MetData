{
 "cells": [
  {
   "cell_type": "markdown",
   "id": "21d2a8b9",
   "metadata": {},
   "source": [
    "<header>\n",
    "        <div style=\"overflow: auto;\">\n",
    "        <img src=\"./images/AMS_LogoRED3.png\" style=\"float: left;\" width=\"300\" />\n",
    "        <img src=\"./images/TUDelft.jpg\" style=\"float: right;\" />\n",
    "    </div>\n",
    "    <div style=\"text-align: center;\">\n",
    "        <h1> AMS Data1 </h1>\n",
    "        <h2>Workshop 4: Tabular data and plotting part 1</h2>\n",
    "        <h6>&copy; 2023, TU Delft. Hans Hoogenboom, Creative Commons</h6>     \n",
    "    </div>\n",
    "    <br>   \n",
    "    <br>\n",
    "</header>"
   ]
  },
  {
   "cell_type": "markdown",
   "id": "8abf3b46",
   "metadata": {},
   "source": [
    "## Introduction\n",
    "\n",
    "Last week we started with a bit of data processing. We opened a file, tried to find the correct data and then use/manipulate that data for further operations. At the start we experienced already a problem, namely the naming of files on different operating systems (OS, e.g., Linux, Mac and Windows). Windows users had to change the path to the file they wanted to open while Mac users were okay. When exchanging scripts with users of different OS's it is annoying to have to manually change filenames. Even mentioning *manually* means that there is something wrong, we are automating things after all! Luckily for us that Python comes with a library (what a suprise) that can handle this issue for us. Meet ***os.path***!\n",
    "\n",
    "### The os.path library\n",
    "The *os.path* library comes with Python so there is no need to install it (actually the library is *os* and *path* is a library module, module for short). The module has several functions that can make our lives easier when dealing with files and directories (folders). The functions in *os.path* are not changing anything about the files so they are safe to use.\n",
    "\n",
    "#### File and filepaths\n",
    "Files on your computer are categorized (hopefully) in directories. You have a directory where Windows/Mac store all the essential OS files, there is a directory for your pictures etc. Directories and their contents reside on a physical disc (M2, SSD, harddrive, USB). On Windows these are the C: and the D: drives for example. A full path to a file on Windows might read *C:\\Users\\Hans\\Documents\\AMS\\WS4.ipynb*. *C:* is the drive letter, *\\Users\\Hans\\Documents\\AMS\\* is the path, *WS4* is the human readable filename and *.ipynb* is the file extension (the file type). Windows often hides the extensions and uses icons to denote filetypes.\n",
    "\n",
    "#### Absolute and relative paths\n",
    "When you run a script, you run the script from somewhere, usually from the directory where it is located. This is the current working directory."
   ]
  },
  {
   "cell_type": "code",
   "execution_count": 1,
   "id": "9de43b01",
   "metadata": {},
   "outputs": [
    {
     "name": "stdout",
     "output_type": "stream",
     "text": [
      "c:\\Users\\julia\\Git\\MetData\\Assignment4\n"
     ]
    }
   ],
   "source": [
    "import os\n",
    "# print the current working directory (where am I?)\n",
    "print(os.getcwd())"
   ]
  },
  {
   "cell_type": "markdown",
   "id": "93dd4f8e",
   "metadata": {},
   "source": [
    "If I want to access a file called *data.csv* in say */home/hans/Documents/csv* from my current location I could do that in two ways: by giving the full path */home/hans/Documents/csv/data.csv* which is also named the **absolute path** or by traversing or moving from my current working directory to the new location. Moving from */home/hans/Documents/python* to */home/hans/Documents* is moving up (moving to the left in the path string), from */home/hans/Documents* to */home/hans/Documents/python* is moving down. Moving down is as simple as just specifying the directory name. Moving up is done by using two dots, e.g. \"..\". So if I am in */home/hans/Documents/python* and I say go to \"..\" I will end up in */home/hans/Documents*. If I then want to go to the *csv* directory I type *csv*. So ../csv is the **relative path** from my current working directory to */home/hans/Documents/csv*.\n",
    "\n",
    "If you are in the Windows command prompt or in the shell on Mac, you need to type *cd ..* to move up and *cd name* to move down. Give it a try. The *cd* stand for change directory.\n",
    "\n",
    "Ok, enough theory and background. So what functions do *os* and *os.path* provide that are useful to us? Below you find some code with comments demonstrating functions from the libraries."
   ]
  },
  {
   "cell_type": "code",
   "execution_count": 5,
   "id": "2af91380",
   "metadata": {},
   "outputs": [
    {
     "name": "stdout",
     "output_type": "stream",
     "text": [
      "Directory already exists\n",
      "c:\\Users\\julia\\Git\\MetData\\Assignment4\n",
      "c:\\Users\\julia\\Git\\MetData\n",
      "c:\\Users\\julia\\Git\n",
      "Assignment4\n",
      "c:\\Users\\julia\\Git\\MetData\n",
      "c:\\Users\\julia\\Git\\MetData\\Assignment4\\answers_to_everything\n",
      "Path exists\n",
      "True\n",
      "False\n",
      "True\n",
      "18553 bytes\n"
     ]
    }
   ],
   "source": [
    "import os\n",
    "# print the current working directory (where am I?)\n",
    "cwd = os.getcwd()\n",
    "# list all contents from the current directory\n",
    "os.listdir('.')\n",
    "# and from the directory above\n",
    "os.listdir('..')\n",
    "# make a new directory in the current directory\n",
    "# if you run the code twice you get an error\n",
    "if os.path.exists(\"my_new_and_silly_dir\"):\n",
    "    print(\"Directory already exists\")\n",
    "else:\n",
    "    os.mkdir(\"my_new_and_silly_dir\")\n",
    "\n",
    "import os.path\n",
    "# print the absolute path\n",
    "print(os.path.abspath('.'))\n",
    "print(os.path.abspath(\"..\"))\n",
    "print(os.path.abspath(\"../..\"))\n",
    "# print the name of the current directory\n",
    "print(os.path.basename(cwd))\n",
    "# print the path where the current directory or file is located\n",
    "print(os.path.dirname(cwd))\n",
    "\n",
    "fake_dir = \"answers_to_everything\"\n",
    "# you can join paths like this. Python adds extra \\ or /!\n",
    "new_path = os.path.join(cwd, fake_dir)\n",
    "print(new_path)\n",
    "# does a path exist?\n",
    "if os.path.exists(new_path):\n",
    "    print(\"Path exists\")\n",
    "else:\n",
    "    os.mkdir(new_path)\n",
    "# now it does!\n",
    "print(os.path.exists(new_path))\n",
    "# are we dealing with a file?\n",
    "print(os.path.isfile(new_path))\n",
    "current_file = os.path.join(os.getcwd(), \"WS4.ipynb\")\n",
    "print(os.path.isfile(current_file))\n",
    "# get the size of a file\n",
    "print(os.path.getsize(current_file), \"bytes\")"
   ]
  },
  {
   "cell_type": "markdown",
   "id": "2dd9a481",
   "metadata": {},
   "source": [
    "Hopefully you have now some functions which can make your life easier when dealing with files on both Windows and Mac. \n",
    "\n",
    "### individual exercise 1:\n",
    "Rewrite the above script so you can run it repeatedly.\n",
    "\n",
    "## Pandas\n",
    "Pandas were mentioned during the previous lecture and workshop. Unfortunately they are not cute furry animals in the Python world (nor food for Pythons) but a library for data analysis and manipulation. [This is a link to the website](https://pandas.pydata.org/). You can install Pandas when you go to your shell (command line) and issue the following command: *py -m pip install pandas*. While your at it, also install [Plotly](https://plotly.com/python/), *py -m pip install plotly* and Matplotlib: *py -m pip install matplotlib*. When you install the libraries, probably a whole bunch of other libraries will get installed as well. If everything installed correctly the code below should return the version numbers of the installed libraries:"
   ]
  },
  {
   "cell_type": "code",
   "execution_count": 1,
   "id": "e15bbe2e",
   "metadata": {},
   "outputs": [
    {
     "name": "stdout",
     "output_type": "stream",
     "text": [
      "2.1.1\n",
      "5.17.0\n"
     ]
    }
   ],
   "source": [
    "import pandas as pd\n",
    "import plotly as pl\n",
    "print(pd.__version__, '\\n', pl.__version__, sep='')"
   ]
  },
  {
   "cell_type": "markdown",
   "id": "558700fc",
   "metadata": {},
   "source": [
    "Pandas can best be compared to Excel. Just as Excel it uses a table, in Pandas a **dataframe**, of rows and columns. A column is called a **series** and can only have one specific datatype (only float or only string etc.). In that sense it is a little more strict then Excel.\n",
    "\n",
    "If you read through the Pandas documentation you will often see a reference to ndarrays or to Numpy. Ndarrays are n-dimensional arrays (lists) of data and are a data structure from the Numpy library. In a next workshop I will dive in to that library, just to get you familiar with how it works. Something you will appreciate about Pandas is that it can read a lot of different data files by default, have a look at [this list](https://pandas.pydata.org/docs/user_guide/io.html).\n",
    "\n",
    "You can create your own dataframe with the following function using the *DataFrame* method (take note of the capitals):"
   ]
  },
  {
   "cell_type": "code",
   "execution_count": 2,
   "id": "d2211d4a",
   "metadata": {},
   "outputs": [
    {
     "name": "stdout",
     "output_type": "stream",
     "text": [
      "     0          1                        2\n",
      "0  AMS  Amsterdam                 Schiphol\n",
      "1  LHR     London  London Heathrow Airport\n"
     ]
    }
   ],
   "source": [
    "df = pd.DataFrame([['AMS', 'Amsterdam', 'Schiphol'], ['LHR', 'London', 'London Heathrow Airport']])\n",
    "print(df)"
   ]
  },
  {
   "cell_type": "markdown",
   "id": "b32ec912",
   "metadata": {},
   "source": [
    "We can add some human readable names to the rows (indices) and columns by directly assigning a list with names."
   ]
  },
  {
   "cell_type": "code",
   "execution_count": 3,
   "id": "b756f6db",
   "metadata": {},
   "outputs": [
    {
     "name": "stdout",
     "output_type": "stream",
     "text": [
      "  IATA       City                  Airport\n",
      "a  AMS  Amsterdam                 Schiphol\n",
      "l  LHR     London  London Heathrow Airport\n"
     ]
    }
   ],
   "source": [
    "columns=['IATA', 'City', 'Airport']\n",
    "df.columns = columns\n",
    "# or directly assign\n",
    "df.index = ['a', 'l']\n",
    "print(df)"
   ]
  },
  {
   "cell_type": "markdown",
   "id": "1125bb8c",
   "metadata": {},
   "source": [
    "Getting the data from a colum is pretty much the same as when working with Python dictionaries:"
   ]
  },
  {
   "cell_type": "code",
   "execution_count": 4,
   "id": "7298ed3b",
   "metadata": {},
   "outputs": [
    {
     "data": {
      "text/plain": [
       "a    AMS\n",
       "l    LHR\n",
       "Name: IATA, dtype: object"
      ]
     },
     "execution_count": 4,
     "metadata": {},
     "output_type": "execute_result"
    }
   ],
   "source": [
    "df['IATA']"
   ]
  },
  {
   "cell_type": "markdown",
   "id": "9b7c49cc",
   "metadata": {},
   "source": [
    "But getting data from an index row is a bit different. We need to use the function *loc* here:"
   ]
  },
  {
   "cell_type": "code",
   "execution_count": 5,
   "id": "79b161e9",
   "metadata": {},
   "outputs": [
    {
     "data": {
      "text/plain": [
       "IATA             AMS\n",
       "City       Amsterdam\n",
       "Airport     Schiphol\n",
       "Name: a, dtype: object"
      ]
     },
     "execution_count": 5,
     "metadata": {},
     "output_type": "execute_result"
    }
   ],
   "source": [
    "df.loc['a']"
   ]
  },
  {
   "cell_type": "markdown",
   "id": "d02968a9",
   "metadata": {},
   "source": [
    "With the *iloc* function you query by a number, so the 1st row:"
   ]
  },
  {
   "cell_type": "code",
   "execution_count": 6,
   "id": "f0d9d725",
   "metadata": {},
   "outputs": [
    {
     "data": {
      "text/plain": [
       "IATA             AMS\n",
       "City       Amsterdam\n",
       "Airport     Schiphol\n",
       "Name: a, dtype: object"
      ]
     },
     "execution_count": 6,
     "metadata": {},
     "output_type": "execute_result"
    }
   ],
   "source": [
    "df.iloc[0]"
   ]
  },
  {
   "cell_type": "markdown",
   "id": "69a76fdc",
   "metadata": {},
   "source": [
    "See here for more indexing operations: [Indexing and selecting data](https://pandas.pydata.org/docs/user_guide/indexing.html)\n",
    "\n",
    "Another example of creating a dataframe, this time with numbers. We initialize the dataframe by a list of numbers. Each row is a seperate list of numbers, all rows are enclosed in square brackets again. That is why you see the \\[\\[ at the start and \\]\\] at the end. We can also set the column and row headers directly. You see that the first row of integers gets promoted to floats. A series (column) can have only one data type!"
   ]
  },
  {
   "cell_type": "code",
   "execution_count": 7,
   "id": "13a0270f",
   "metadata": {},
   "outputs": [
    {
     "data": {
      "text/html": [
       "<div>\n",
       "<style scoped>\n",
       "    .dataframe tbody tr th:only-of-type {\n",
       "        vertical-align: middle;\n",
       "    }\n",
       "\n",
       "    .dataframe tbody tr th {\n",
       "        vertical-align: top;\n",
       "    }\n",
       "\n",
       "    .dataframe thead th {\n",
       "        text-align: right;\n",
       "    }\n",
       "</style>\n",
       "<table border=\"1\" class=\"dataframe\">\n",
       "  <thead>\n",
       "    <tr style=\"text-align: right;\">\n",
       "      <th></th>\n",
       "      <th>2021</th>\n",
       "      <th>2022</th>\n",
       "      <th>2023</th>\n",
       "    </tr>\n",
       "  </thead>\n",
       "  <tbody>\n",
       "    <tr>\n",
       "      <th>area1</th>\n",
       "      <td>0.0</td>\n",
       "      <td>1.0</td>\n",
       "      <td>2.0</td>\n",
       "    </tr>\n",
       "    <tr>\n",
       "      <th>area2</th>\n",
       "      <td>2.0</td>\n",
       "      <td>3.0</td>\n",
       "      <td>4.0</td>\n",
       "    </tr>\n",
       "    <tr>\n",
       "      <th>area3</th>\n",
       "      <td>3.0</td>\n",
       "      <td>4.0</td>\n",
       "      <td>5.0</td>\n",
       "    </tr>\n",
       "  </tbody>\n",
       "</table>\n",
       "</div>"
      ],
      "text/plain": [
       "       2021  2022  2023\n",
       "area1   0.0   1.0   2.0\n",
       "area2   2.0   3.0   4.0\n",
       "area3   3.0   4.0   5.0"
      ]
     },
     "execution_count": 7,
     "metadata": {},
     "output_type": "execute_result"
    }
   ],
   "source": [
    "nf = pd.DataFrame([[0, 1, 2], [2.0, 3.0, 4.0], [3.0, 4.0, 5.0]], columns=['2021', '2022', '2023'], index=['area1', 'area2', 'area3'])\n",
    "nf"
   ]
  },
  {
   "cell_type": "markdown",
   "id": "49c3844e",
   "metadata": {},
   "source": [
    "You can create a single column, a series, using the *Series* function. We can give the series a name and insert it into our datafame using the *insert* method:"
   ]
  },
  {
   "cell_type": "code",
   "execution_count": 10,
   "id": "79f5e079",
   "metadata": {},
   "outputs": [
    {
     "name": "stdout",
     "output_type": "stream",
     "text": [
      "area5    3.0\n",
      "area6    5.0\n",
      "area7    6.0\n",
      "Name: boring, dtype: float64\n"
     ]
    },
    {
     "data": {
      "text/html": [
       "<div>\n",
       "<style scoped>\n",
       "    .dataframe tbody tr th:only-of-type {\n",
       "        vertical-align: middle;\n",
       "    }\n",
       "\n",
       "    .dataframe tbody tr th {\n",
       "        vertical-align: top;\n",
       "    }\n",
       "\n",
       "    .dataframe thead th {\n",
       "        text-align: right;\n",
       "    }\n",
       "</style>\n",
       "<table border=\"1\" class=\"dataframe\">\n",
       "  <thead>\n",
       "    <tr style=\"text-align: right;\">\n",
       "      <th></th>\n",
       "      <th>2021</th>\n",
       "      <th>2022</th>\n",
       "      <th>test</th>\n",
       "      <th>leap</th>\n",
       "      <th>2023</th>\n",
       "    </tr>\n",
       "  </thead>\n",
       "  <tbody>\n",
       "    <tr>\n",
       "      <th>area1</th>\n",
       "      <td>0.0</td>\n",
       "      <td>1.0</td>\n",
       "      <td>NaN</td>\n",
       "      <td>3.0</td>\n",
       "      <td>2.0</td>\n",
       "    </tr>\n",
       "    <tr>\n",
       "      <th>area2</th>\n",
       "      <td>2.0</td>\n",
       "      <td>3.0</td>\n",
       "      <td>NaN</td>\n",
       "      <td>5.0</td>\n",
       "      <td>4.0</td>\n",
       "    </tr>\n",
       "    <tr>\n",
       "      <th>area3</th>\n",
       "      <td>3.0</td>\n",
       "      <td>4.0</td>\n",
       "      <td>NaN</td>\n",
       "      <td>6.0</td>\n",
       "      <td>5.0</td>\n",
       "    </tr>\n",
       "  </tbody>\n",
       "</table>\n",
       "</div>"
      ],
      "text/plain": [
       "       2021  2022  test  leap  2023\n",
       "area1   0.0   1.0   NaN   3.0   2.0\n",
       "area2   2.0   3.0   NaN   5.0   4.0\n",
       "area3   3.0   4.0   NaN   6.0   5.0"
      ]
     },
     "execution_count": 10,
     "metadata": {},
     "output_type": "execute_result"
    }
   ],
   "source": [
    "ns = pd.Series([3.0, 5.0, 6], name='boring', index=['area5', 'area6', 'area7'])\n",
    "print(ns)\n",
    "nf.insert(2, 'test', ns)\n",
    "nf"
   ]
  },
  {
   "cell_type": "markdown",
   "id": "3a92bc2e",
   "metadata": {},
   "source": [
    "### individual exercise 2:\n",
    "1) What happens if you execute the code in the above cell a second time?\n",
    "2) Change the *insert* statement so that we can insert a new column, do not execute yet! What happens if you change the names of the indices, or remove the *index = ...* altogether, of the **ns** series and you try to insert ns again? Now you can execute the code!\n",
    "\n",
    "You can set change the values of a cell using the *at* or *iat* function"
   ]
  },
  {
   "cell_type": "code",
   "execution_count": 13,
   "id": "ec53912f-4932-4e6b-bad7-de8ce67b0d45",
   "metadata": {},
   "outputs": [
    {
     "name": "stdout",
     "output_type": "stream",
     "text": [
      "       2021  2022  test  leap  2023\n",
      "area1   0.0  12.1   NaN   3.0   2.0\n",
      "area2   2.0   3.0   NaN   5.0   4.0\n",
      "area3   3.0   4.0   NaN   6.0   5.0 \n",
      "\n",
      "Cell at position 1,1: 3.0\n",
      "[Index(['area1', 'area2', 'area3'], dtype='object'), Index(['2021', '2022', 'test', 'leap', '2023'], dtype='object')]\n",
      "Max value in column 2023: 5.0\n",
      "\n",
      "Columns:\n",
      "2021     3.0\n",
      "2022    12.1\n",
      "test     NaN\n",
      "leap     6.0\n",
      "2023     5.0\n",
      "dtype: float64\n",
      "Rows:\n",
      "area1    12.1\n",
      "area2     5.0\n",
      "area3     6.0\n",
      "dtype: float64\n",
      "\n",
      "Contents of sf:\n",
      "2021    2.0\n",
      "2022    3.0\n",
      "test    NaN\n",
      "leap    5.0\n",
      "2023    4.0\n",
      "Name: area2, dtype: float64\n"
     ]
    }
   ],
   "source": [
    "# use a name based approach\n",
    "nf.at['area1', '2022'] = 12.1\n",
    "print(nf, '\\n')\n",
    "# or change by index. Do you see a pattern in the \n",
    "# naming of the functions loc, iloc, at and iat?\n",
    "print(\"Cell at position 1,1:\", nf.iat[1, 1])\n",
    "\n",
    "#print the names of the axes...the index and column names\n",
    "print(nf.axes)\n",
    "\n",
    "# find the maximum value of a column\n",
    "print(\"Max value in column 2023:\", nf['2023'].max())\n",
    "\n",
    "# find ALL the maximum values in the columns\n",
    "print(\"\\nColumns:\\n\", nf.max(axis=0), sep='')\n",
    "# and in the rows\n",
    "print(\"Rows:\\n\", nf.max(axis=1), sep='')\n",
    "# get a single row\n",
    "sf = nf.loc['area2']\n",
    "print(\"\\nContents of sf:\\n\", sf, sep='')"
   ]
  },
  {
   "cell_type": "markdown",
   "id": "b9067389-cb45-4c28-b3c9-fccd9dd0d138",
   "metadata": {},
   "source": [
    "What does the *sep* in the print statement do? Change the value and see what happens.\n",
    "\n",
    "So far we only got a single row or a single value out of our dataframe. How can you select multiple columns and rows at once? One method is by specifying the column names you want to have as a list:"
   ]
  },
  {
   "cell_type": "code",
   "execution_count": 14,
   "id": "ec65db6b-a5c9-4a12-a11d-26288211c479",
   "metadata": {},
   "outputs": [
    {
     "name": "stdout",
     "output_type": "stream",
     "text": [
      "       2022  leap\n",
      "area1  12.1   3.0\n",
      "area2   3.0   5.0\n",
      "area3   4.0   6.0\n"
     ]
    }
   ],
   "source": [
    "new_frame = nf[['2022', 'leap']]\n",
    "print(new_frame)"
   ]
  },
  {
   "cell_type": "markdown",
   "id": "9b17a695-7eef-4cec-ba96-8dd20b16f31c",
   "metadata": {},
   "source": [
    "Or we can use the iloc function in combination with slicing. Slicing is a bit similar to a range (well actually it is a range) where we have a start, an end (up to, remember!) and a step. The iloc works on a two dimensional structure, the first part is for rows (indices), the second part for columns:"
   ]
  },
  {
   "cell_type": "code",
   "execution_count": 15,
   "id": "7fc2777d-2bd1-4ec9-a951-34534bcc6adc",
   "metadata": {},
   "outputs": [
    {
     "name": "stdout",
     "output_type": "stream",
     "text": [
      "       2022  test\n",
      "area1  12.1   NaN\n",
      "area2   3.0   NaN\n",
      "area3   4.0   NaN\n",
      "       2022  test  leap\n",
      "area2   3.0   NaN   5.0\n",
      "area3   4.0   NaN   6.0\n"
     ]
    }
   ],
   "source": [
    "# slice by columns only\n",
    "col_b = nf.columns.get_loc('2022')\n",
    "col_e = nf.columns.get_loc('leap')\n",
    "new_frame = nf.iloc[: , col_b : col_e]\n",
    "print(new_frame)\n",
    "\n",
    "# also slice some rows\n",
    "new_frame = nf.iloc[1:3 , col_b : col_e + 1]\n",
    "print(new_frame)"
   ]
  },
  {
   "cell_type": "markdown",
   "id": "bc6f052e-841d-47bf-862f-2e2441483e55",
   "metadata": {},
   "source": [
    "These are some of the basic operations of Pandas. There are many more functions to actually do something with the data like finding the [median](https://pandas.pydata.org/docs/reference/api/pandas.DataFrame.median.html). If you search on Google or use ChatGPT you will find some more examples and methods.\n",
    "\n",
    "## Plotting\n",
    "There are many plotting libraries for Python. One of the most well known is [Matplotlib](https://matplotlib.org/). For statistics two nice libraries are [Seaborn](https://seaborn.pydata.org/index.html) and Plotly. For this workshop we will make use of Plotly. Pandas uses Matplotlib by default. You can install Matplotlib with the usual command: *py -m pip install matplotlib*"
   ]
  },
  {
   "cell_type": "code",
   "execution_count": 16,
   "id": "a0e55b42-7885-4cc9-b5d4-3417570e1725",
   "metadata": {},
   "outputs": [
    {
     "data": {
      "text/plain": [
       "<Axes: ylabel='Frequency'>"
      ]
     },
     "execution_count": 16,
     "metadata": {},
     "output_type": "execute_result"
    },
    {
     "data": {
      "text/plain": [
       "<Figure size 640x480 with 0 Axes>"
      ]
     },
     "metadata": {},
     "output_type": "display_data"
    },
    {
     "data": {
      "image/png": "[encoded data removed]",
      "text/plain": [
       "<Figure size 640x480 with 1 Axes>"
      ]
     },
     "metadata": {},
     "output_type": "display_data"
    }
   ],
   "source": [
    "# plot internal\n",
    "import matplotlib.pyplot as plt\n",
    "plt.figure()\n",
    "nf.plot.hist()"
   ]
  },
  {
   "cell_type": "markdown",
   "id": "d35ed3ed-0443-44c4-bff1-a0316e0081df",
   "metadata": {},
   "source": [
    "If we want to use another library for plotting we have to tell Pandas so:"
   ]
  },
  {
   "cell_type": "code",
   "execution_count": 17,
   "id": "dc90e074-e78b-41d9-84e3-50da1c2f2e11",
   "metadata": {},
   "outputs": [
    {
     "data": {
      "application/vnd.plotly.v1+json": {
       "config": {
        "plotlyServerURL": "https://plot.ly"
       },
       "data": [
        {
         "hovertemplate": "variable=2021<br>index=%{x}<br>value=%{y}<extra></extra>",
         "legendgroup": "2021",
         "line": {
          "color": "#636efa",
          "dash": "solid"
         },
         "marker": {
          "symbol": "circle"
         },
         "mode": "lines",
         "name": "2021",
         "orientation": "v",
         "showlegend": true,
         "type": "scatter",
         "x": [
          "area1",
          "area2",
          "area3"
         ],
         "xaxis": "x",
         "y": [
          0,
          2,
          3
         ],
         "yaxis": "y"
        },
        {
         "hovertemplate": "variable=2022<br>index=%{x}<br>value=%{y}<extra></extra>",
         "legendgroup": "2022",
         "line": {
          "color": "#EF553B",
          "dash": "solid"
         },
         "marker": {
          "symbol": "circle"
         },
         "mode": "lines",
         "name": "2022",
         "orientation": "v",
         "showlegend": true,
         "type": "scatter",
         "x": [
          "area1",
          "area2",
          "area3"
         ],
         "xaxis": "x",
         "y": [
          12.1,
          3,
          4
         ],
         "yaxis": "y"
        },
        {
         "hovertemplate": "variable=test<br>index=%{x}<br>value=%{y}<extra></extra>",
         "legendgroup": "test",
         "line": {
          "color": "#00cc96",
          "dash": "solid"
         },
         "marker": {
          "symbol": "circle"
         },
         "mode": "lines",
         "name": "test",
         "orientation": "v",
         "showlegend": true,
         "type": "scatter",
         "x": [
          "area1",
          "area2",
          "area3"
         ],
         "xaxis": "x",
         "y": [
          null,
          null,
          null
         ],
         "yaxis": "y"
        },
        {
         "hovertemplate": "variable=leap<br>index=%{x}<br>value=%{y}<extra></extra>",
         "legendgroup": "leap",
         "line": {
          "color": "#ab63fa",
          "dash": "solid"
         },
         "marker": {
          "symbol": "circle"
         },
         "mode": "lines",
         "name": "leap",
         "orientation": "v",
         "showlegend": true,
         "type": "scatter",
         "x": [
          "area1",
          "area2",
          "area3"
         ],
         "xaxis": "x",
         "y": [
          3,
          5,
          6
         ],
         "yaxis": "y"
        },
        {
         "hovertemplate": "variable=2023<br>index=%{x}<br>value=%{y}<extra></extra>",
         "legendgroup": "2023",
         "line": {
          "color": "#FFA15A",
          "dash": "solid"
         },
         "marker": {
          "symbol": "circle"
         },
         "mode": "lines",
         "name": "2023",
         "orientation": "v",
         "showlegend": true,
         "type": "scatter",
         "x": [
          "area1",
          "area2",
          "area3"
         ],
         "xaxis": "x",
         "y": [
          2,
          4,
          5
         ],
         "yaxis": "y"
        }
       ],
       "layout": {
        "legend": {
         "title": {
          "text": "variable"
         },
         "tracegroupgap": 0
        },
        "margin": {
         "t": 60
        },
        "template": {
         "data": {
          "bar": [
           {
            "error_x": {
             "color": "#2a3f5f"
            },
            "error_y": {
             "color": "#2a3f5f"
            },
            "marker": {
             "line": {
              "color": "#E5ECF6",
              "width": 0.5
             },
             "pattern": {
              "fillmode": "overlay",
              "size": 10,
              "solidity": 0.2
             }
            },
            "type": "bar"
           }
          ],
          "barpolar": [
           {
            "marker": {
             "line": {
              "color": "#E5ECF6",
              "width": 0.5
             },
             "pattern": {
              "fillmode": "overlay",
              "size": 10,
              "solidity": 0.2
             }
            },
            "type": "barpolar"
           }
          ],
          "carpet": [
           {
            "aaxis": {
             "endlinecolor": "#2a3f5f",
             "gridcolor": "white",
             "linecolor": "white",
             "minorgridcolor": "white",
             "startlinecolor": "#2a3f5f"
            },
            "baxis": {
             "endlinecolor": "#2a3f5f",
             "gridcolor": "white",
             "linecolor": "white",
             "minorgridcolor": "white",
             "startlinecolor": "#2a3f5f"
            },
            "type": "carpet"
           }
          ],
          "choropleth": [
           {
            "colorbar": {
             "outlinewidth": 0,
             "ticks": ""
            },
            "type": "choropleth"
           }
          ],
          "contour": [
           {
            "colorbar": {
             "outlinewidth": 0,
             "ticks": ""
            },
            "colorscale": [
             [
              0,
              "#0d0887"
             ],
             [
              0.1111111111111111,
              "#46039f"
             ],
             [
              0.2222222222222222,
              "#7201a8"
             ],
             [
              0.3333333333333333,
              "#9c179e"
             ],
             [
              0.4444444444444444,
              "#bd3786"
             ],
             [
              0.5555555555555556,
              "#d8576b"
             ],
             [
              0.6666666666666666,
              "#ed7953"
             ],
             [
              0.7777777777777778,
              "#fb9f3a"
             ],
             [
              0.8888888888888888,
              "#fdca26"
             ],
             [
              1,
              "#f0f921"
             ]
            ],
            "type": "contour"
           }
          ],
          "contourcarpet": [
           {
            "colorbar": {
             "outlinewidth": 0,
             "ticks": ""
            },
            "type": "contourcarpet"
           }
          ],
          "heatmap": [
           {
            "colorbar": {
             "outlinewidth": 0,
             "ticks": ""
            },
            "colorscale": [
             [
              0,
              "#0d0887"
             ],
             [
              0.1111111111111111,
              "#46039f"
             ],
             [
              0.2222222222222222,
              "#7201a8"
             ],
             [
              0.3333333333333333,
              "#9c179e"
             ],
             [
              0.4444444444444444,
              "#bd3786"
             ],
             [
              0.5555555555555556,
              "#d8576b"
             ],
             [
              0.6666666666666666,
              "#ed7953"
             ],
             [
              0.7777777777777778,
              "#fb9f3a"
             ],
             [
              0.8888888888888888,
              "#fdca26"
             ],
             [
              1,
              "#f0f921"
             ]
            ],
            "type": "heatmap"
           }
          ],
          "heatmapgl": [
           {
            "colorbar": {
             "outlinewidth": 0,
             "ticks": ""
            },
            "colorscale": [
             [
              0,
              "#0d0887"
             ],
             [
              0.1111111111111111,
              "#46039f"
             ],
             [
              0.2222222222222222,
              "#7201a8"
             ],
             [
              0.3333333333333333,
              "#9c179e"
             ],
             [
              0.4444444444444444,
              "#bd3786"
             ],
             [
              0.5555555555555556,
              "#d8576b"
             ],
             [
              0.6666666666666666,
              "#ed7953"
             ],
             [
              0.7777777777777778,
              "#fb9f3a"
             ],
             [
              0.8888888888888888,
              "#fdca26"
             ],
             [
              1,
              "#f0f921"
             ]
            ],
            "type": "heatmapgl"
           }
          ],
          "histogram": [
           {
            "marker": {
             "pattern": {
              "fillmode": "overlay",
              "size": 10,
              "solidity": 0.2
             }
            },
            "type": "histogram"
           }
          ],
          "histogram2d": [
           {
            "colorbar": {
             "outlinewidth": 0,
             "ticks": ""
            },
            "colorscale": [
             [
              0,
              "#0d0887"
             ],
             [
              0.1111111111111111,
              "#46039f"
             ],
             [
              0.2222222222222222,
              "#7201a8"
             ],
             [
              0.3333333333333333,
              "#9c179e"
             ],
             [
              0.4444444444444444,
              "#bd3786"
             ],
             [
              0.5555555555555556,
              "#d8576b"
             ],
             [
              0.6666666666666666,
              "#ed7953"
             ],
             [
              0.7777777777777778,
              "#fb9f3a"
             ],
             [
              0.8888888888888888,
              "#fdca26"
             ],
             [
              1,
              "#f0f921"
             ]
            ],
            "type": "histogram2d"
           }
          ],
          "histogram2dcontour": [
           {
            "colorbar": {
             "outlinewidth": 0,
             "ticks": ""
            },
            "colorscale": [
             [
              0,
              "#0d0887"
             ],
             [
              0.1111111111111111,
              "#46039f"
             ],
             [
              0.2222222222222222,
              "#7201a8"
             ],
             [
              0.3333333333333333,
              "#9c179e"
             ],
             [
              0.4444444444444444,
              "#bd3786"
             ],
             [
              0.5555555555555556,
              "#d8576b"
             ],
             [
              0.6666666666666666,
              "#ed7953"
             ],
             [
              0.7777777777777778,
              "#fb9f3a"
             ],
             [
              0.8888888888888888,
              "#fdca26"
             ],
             [
              1,
              "#f0f921"
             ]
            ],
            "type": "histogram2dcontour"
           }
          ],
          "mesh3d": [
           {
            "colorbar": {
             "outlinewidth": 0,
             "ticks": ""
            },
            "type": "mesh3d"
           }
          ],
          "parcoords": [
           {
            "line": {
             "colorbar": {
              "outlinewidth": 0,
              "ticks": ""
             }
            },
            "type": "parcoords"
           }
          ],
          "pie": [
           {
            "automargin": true,
            "type": "pie"
           }
          ],
          "scatter": [
           {
            "fillpattern": {
             "fillmode": "overlay",
             "size": 10,
             "solidity": 0.2
            },
            "type": "scatter"
           }
          ],
          "scatter3d": [
           {
            "line": {
             "colorbar": {
              "outlinewidth": 0,
              "ticks": ""
             }
            },
            "marker": {
             "colorbar": {
              "outlinewidth": 0,
              "ticks": ""
             }
            },
            "type": "scatter3d"
           }
          ],
          "scattercarpet": [
           {
            "marker": {
             "colorbar": {
              "outlinewidth": 0,
              "ticks": ""
             }
            },
            "type": "scattercarpet"
           }
          ],
          "scattergeo": [
           {
            "marker": {
             "colorbar": {
              "outlinewidth": 0,
              "ticks": ""
             }
            },
            "type": "scattergeo"
           }
          ],
          "scattergl": [
           {
            "marker": {
             "colorbar": {
              "outlinewidth": 0,
              "ticks": ""
             }
            },
            "type": "scattergl"
           }
          ],
          "scattermapbox": [
           {
            "marker": {
             "colorbar": {
              "outlinewidth": 0,
              "ticks": ""
             }
            },
            "type": "scattermapbox"
           }
          ],
          "scatterpolar": [
           {
            "marker": {
             "colorbar": {
              "outlinewidth": 0,
              "ticks": ""
             }
            },
            "type": "scatterpolar"
           }
          ],
          "scatterpolargl": [
           {
            "marker": {
             "colorbar": {
              "outlinewidth": 0,
              "ticks": ""
             }
            },
            "type": "scatterpolargl"
           }
          ],
          "scatterternary": [
           {
            "marker": {
             "colorbar": {
              "outlinewidth": 0,
              "ticks": ""
             }
            },
            "type": "scatterternary"
           }
          ],
          "surface": [
           {
            "colorbar": {
             "outlinewidth": 0,
             "ticks": ""
            },
            "colorscale": [
             [
              0,
              "#0d0887"
             ],
             [
              0.1111111111111111,
              "#46039f"
             ],
             [
              0.2222222222222222,
              "#7201a8"
             ],
             [
              0.3333333333333333,
              "#9c179e"
             ],
             [
              0.4444444444444444,
              "#bd3786"
             ],
             [
              0.5555555555555556,
              "#d8576b"
             ],
             [
              0.6666666666666666,
              "#ed7953"
             ],
             [
              0.7777777777777778,
              "#fb9f3a"
             ],
             [
              0.8888888888888888,
              "#fdca26"
             ],
             [
              1,
              "#f0f921"
             ]
            ],
            "type": "surface"
           }
          ],
          "table": [
           {
            "cells": {
             "fill": {
              "color": "#EBF0F8"
             },
             "line": {
              "color": "white"
             }
            },
            "header": {
             "fill": {
              "color": "#C8D4E3"
             },
             "line": {
              "color": "white"
             }
            },
            "type": "table"
           }
          ]
         },
         "layout": {
          "annotationdefaults": {
           "arrowcolor": "#2a3f5f",
           "arrowhead": 0,
           "arrowwidth": 1
          },
          "autotypenumbers": "strict",
          "coloraxis": {
           "colorbar": {
            "outlinewidth": 0,
            "ticks": ""
           }
          },
          "colorscale": {
           "diverging": [
            [
             0,
             "#8e0152"
            ],
            [
             0.1,
             "#c51b7d"
            ],
            [
             0.2,
             "#de77ae"
            ],
            [
             0.3,
             "#f1b6da"
            ],
            [
             0.4,
             "#fde0ef"
            ],
            [
             0.5,
             "#f7f7f7"
            ],
            [
             0.6,
             "#e6f5d0"
            ],
            [
             0.7,
             "#b8e186"
            ],
            [
             0.8,
             "#7fbc41"
            ],
            [
             0.9,
             "#4d9221"
            ],
            [
             1,
             "#276419"
            ]
           ],
           "sequential": [
            [
             0,
             "#0d0887"
            ],
            [
             0.1111111111111111,
             "#46039f"
            ],
            [
             0.2222222222222222,
             "#7201a8"
            ],
            [
             0.3333333333333333,
             "#9c179e"
            ],
            [
             0.4444444444444444,
             "#bd3786"
            ],
            [
             0.5555555555555556,
             "#d8576b"
            ],
            [
             0.6666666666666666,
             "#ed7953"
            ],
            [
             0.7777777777777778,
             "#fb9f3a"
            ],
            [
             0.8888888888888888,
             "#fdca26"
            ],
            [
             1,
             "#f0f921"
            ]
           ],
           "sequentialminus": [
            [
             0,
             "#0d0887"
            ],
            [
             0.1111111111111111,
             "#46039f"
            ],
            [
             0.2222222222222222,
             "#7201a8"
            ],
            [
             0.3333333333333333,
             "#9c179e"
            ],
            [
             0.4444444444444444,
             "#bd3786"
            ],
            [
             0.5555555555555556,
             "#d8576b"
            ],
            [
             0.6666666666666666,
             "#ed7953"
            ],
            [
             0.7777777777777778,
             "#fb9f3a"
            ],
            [
             0.8888888888888888,
             "#fdca26"
            ],
            [
             1,
             "#f0f921"
            ]
           ]
          },
          "colorway": [
           "#636efa",
           "#EF553B",
           "#00cc96",
           "#ab63fa",
           "#FFA15A",
           "#19d3f3",
           "#FF6692",
           "#B6E880",
           "#FF97FF",
           "#FECB52"
          ],
          "font": {
           "color": "#2a3f5f"
          },
          "geo": {
           "bgcolor": "white",
           "lakecolor": "white",
           "landcolor": "#E5ECF6",
           "showlakes": true,
           "showland": true,
           "subunitcolor": "white"
          },
          "hoverlabel": {
           "align": "left"
          },
          "hovermode": "closest",
          "mapbox": {
           "style": "light"
          },
          "paper_bgcolor": "white",
          "plot_bgcolor": "#E5ECF6",
          "polar": {
           "angularaxis": {
            "gridcolor": "white",
            "linecolor": "white",
            "ticks": ""
           },
           "bgcolor": "#E5ECF6",
           "radialaxis": {
            "gridcolor": "white",
            "linecolor": "white",
            "ticks": ""
           }
          },
          "scene": {
           "xaxis": {
            "backgroundcolor": "#E5ECF6",
            "gridcolor": "white",
            "gridwidth": 2,
            "linecolor": "white",
            "showbackground": true,
            "ticks": "",
            "zerolinecolor": "white"
           },
           "yaxis": {
            "backgroundcolor": "#E5ECF6",
            "gridcolor": "white",
            "gridwidth": 2,
            "linecolor": "white",
            "showbackground": true,
            "ticks": "",
            "zerolinecolor": "white"
           },
           "zaxis": {
            "backgroundcolor": "#E5ECF6",
            "gridcolor": "white",
            "gridwidth": 2,
            "linecolor": "white",
            "showbackground": true,
            "ticks": "",
            "zerolinecolor": "white"
           }
          },
          "shapedefaults": {
           "line": {
            "color": "#2a3f5f"
           }
          },
          "ternary": {
           "aaxis": {
            "gridcolor": "white",
            "linecolor": "white",
            "ticks": ""
           },
           "baxis": {
            "gridcolor": "white",
            "linecolor": "white",
            "ticks": ""
           },
           "bgcolor": "#E5ECF6",
           "caxis": {
            "gridcolor": "white",
            "linecolor": "white",
            "ticks": ""
           }
          },
          "title": {
           "x": 0.05
          },
          "xaxis": {
           "automargin": true,
           "gridcolor": "white",
           "linecolor": "white",
           "ticks": "",
           "title": {
            "standoff": 15
           },
           "zerolinecolor": "white",
           "zerolinewidth": 2
          },
          "yaxis": {
           "automargin": true,
           "gridcolor": "white",
           "linecolor": "white",
           "ticks": "",
           "title": {
            "standoff": 15
           },
           "zerolinecolor": "white",
           "zerolinewidth": 2
          }
         }
        },
        "xaxis": {
         "anchor": "y",
         "domain": [
          0,
          1
         ],
         "title": {
          "text": "index"
         }
        },
        "yaxis": {
         "anchor": "x",
         "domain": [
          0,
          1
         ],
         "title": {
          "text": "value"
         }
        }
       }
      }
     },
     "metadata": {},
     "output_type": "display_data"
    }
   ],
   "source": [
    "# change default plotting library\n",
    "pd.options.plotting.backend = \"plotly\"\n",
    "fig = nf.plot()\n",
    "fig.show()"
   ]
  },
  {
   "cell_type": "markdown",
   "id": "8d436945-eaa4-4e9c-8ad4-0ffb3a4d1006",
   "metadata": {},
   "source": [
    "Explore the Plotly website for some basic tutorial on the usage. You can get started [here](https://plotly.com/python/figure-structure/) and [here](https://plotly.com/python/creating-and-updating-figures/)."
   ]
  },
  {
   "cell_type": "markdown",
   "id": "12500340",
   "metadata": {},
   "source": [
    "### Group exercise\n",
    "On Brightspace you can find under Contents/Resources a long list of datasets. Under the [AirBnB](https://brightspace.wur.nl/d2l/le/content/240321/viewContent/1052192/View) heading you can find a link to a website where you can download the AirBnB data from Amsterdam. Find the average price and the median for the Westerpark neighborhood. Plot the median distribution using Plotly."
   ]
  },
  {
   "cell_type": "markdown",
   "id": "2cc1332a",
   "metadata": {},
   "source": [
    "## Some useful links\n",
    "[Pandas 10 min tutorial](https://pandas.pydata.org/docs/user_guide/10min.html)\n",
    "<br>[Pandas cookbook](https://pandas.pydata.org/docs/user_guide/cookbook.html)\n",
    "<br>[Plotly statistical charts](https://plotly.com/python/statistical-charts/)\n",
    "<br>[Numpy](https://numpy.org/)\n",
    "<br>[Numpy quickstart](https://numpy.org/devdocs/user/quickstart.html)"
   ]
  },
  {
   "cell_type": "markdown",
   "id": "000662d5",
   "metadata": {},
   "source": [
    "### THE END\n",
    "###### Hans Hoogenboom, Sept. 2023"
   ]
  }
 ],
 "metadata": {
  "kernelspec": {
   "display_name": "Python 3 (ipykernel)",
   "language": "python",
   "name": "python3"
  },
  "language_info": {
   "codemirror_mode": {
    "name": "ipython",
    "version": 3
   },
   "file_extension": ".py",
   "mimetype": "text/x-python",
   "name": "python",
   "nbconvert_exporter": "python",
   "pygments_lexer": "ipython3",
   "version": "3.11.5"
  }
 },
 "nbformat": 4,
 "nbformat_minor": 5
}
