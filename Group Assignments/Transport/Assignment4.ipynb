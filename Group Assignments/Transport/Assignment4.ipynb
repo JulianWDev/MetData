{
 "cells": [
  {
   "cell_type": "code",
   "execution_count": null,
   "metadata": {},
   "outputs": [],
   "source": [
    "import pandas as pd\n",
    "import geopandas as gpd\n",
    "import osmnx as ox\n",
    "import matplotlib.pyplot as plt\n",
    "import plotly as py\n",
    "from shapely.geometry import Point, Polygon\n",
    "import plotly.express as px\n",
    "import requests\n",
    "import json\n",
    "\n",
    "%matplotlib inline"
   ]
  },
  {
   "cell_type": "markdown",
   "metadata": {},
   "source": [
    "Find the centre of the nodes of the swimming route. See this link."
   ]
  },
  {
   "cell_type": "code",
   "execution_count": null,
   "metadata": {},
   "outputs": [],
   "source": [
    "import osmnx as ox\n",
    "ox.config(use_cache=True, log_console=True)\n",
    "graph_water = ox.graph_from_place('Amsterdam', retain_all=False, truncate_by_edge=False,\n",
    "                        simplify=True, custom_filter='[\"waterway\"~\"canal\"]')\n",
    "fig, ax = ox.plot_graph(G)"
   ]
  },
  {
   "cell_type": "markdown",
   "metadata": {},
   "source": [
    "Use the centre to find a suitable spot for the Event Headquarters."
   ]
  },
  {
   "cell_type": "markdown",
   "metadata": {},
   "source": [
    "Find the closest bus and tram stops at the start and finish of the swimming route. How many people can be transported within an hour.\n",
    "\n"
   ]
  },
  {
   "cell_type": "markdown",
   "metadata": {},
   "source": [
    "Can you find which bus and tram lines these are, and can you find their routes?\n",
    "\n"
   ]
  },
  {
   "cell_type": "markdown",
   "metadata": {},
   "source": [
    "Calculate the centrality of the start, finish, and centre node of the route. Which centrality calculatuon for non makes the most sense. See this link.\n",
    "\n"
   ]
  },
  {
   "cell_type": "markdown",
   "metadata": {},
   "source": [
    "Find all cafes, restaurants near the finish line. Walking �me smaller than 10 minutes."
   ]
  }
 ],
 "metadata": {
  "language_info": {
   "name": "python"
  }
 },
 "nbformat": 4,
 "nbformat_minor": 2
}
