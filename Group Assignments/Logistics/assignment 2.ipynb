{
 "cells": [
  {
   "cell_type": "markdown",
   "metadata": {},
   "source": [
    "How many of the canal boats currently in use are diesel/fossil fuel driven and how\n",
    "many boats are electrical driven?"
   ]
  },
  {
   "cell_type": "code",
   "execution_count": 1,
   "metadata": {},
   "outputs": [
    {
     "name": "stdout",
     "output_type": "stream",
     "text": [
      "1102.5\n"
     ]
    }
   ],
   "source": [
    "#based on numbers shown on website\n",
    "# we calculate the number of electric\n",
    "# boats based on percentage\n",
    "electric_boats = 7350 * 0.15\n",
    "print(electric_boats)"
   ]
  },
  {
   "cell_type": "markdown",
   "metadata": {},
   "source": [
    "Try to compare the energy use of the canal boats to some other activites in the city.\n",
    "Use canal boats more or less energy in relation to their carbon footprint compared to\n",
    "these other actvites?"
   ]
  },
  {
   "cell_type": "code",
   "execution_count": 2,
   "metadata": {},
   "outputs": [
    {
     "name": "stdout",
     "output_type": "stream",
     "text": [
      "39637.5\n"
     ]
    }
   ],
   "source": [
    "#based on numbers shown on the website\n",
    "# we calculate the volumetric energy\n",
    "# density of diesel\n",
    "Volume_energy_density = 45.3*875\n",
    "print(Volume_energy_density)"
   ]
  },
  {
   "cell_type": "code",
   "execution_count": 5,
   "metadata": {},
   "outputs": [
    {
     "name": "stdout",
     "output_type": "stream",
     "text": [
      "5.6625000000000005\n"
     ]
    }
   ],
   "source": [
    "#based on numbers shown on the website\n",
    "# we calculate the energy consumption per km\n",
    "y = Volume_energy_density/1000\n",
    "Energy_km = y/7\n",
    "print(Energy_km)"
   ]
  },
  {
   "cell_type": "markdown",
   "metadata": {},
   "source": [
    "Would you consider it economically feasible?"
   ]
  },
  {
   "cell_type": "code",
   "execution_count": 7,
   "metadata": {},
   "outputs": [
    {
     "name": "stdout",
     "output_type": "stream",
     "text": [
      "93450000\n",
      "311500000\n",
      "202475000.0\n"
     ]
    }
   ],
   "source": [
    "# Here we set up an\n",
    "# averag price to covert one boat to electric and then\n",
    "# we multiplie this price across the numbe rof boats which would\n",
    "#need to change\n",
    "min_cost = 15000\n",
    "max_cost = 50000\n",
    "\n",
    "boats_convert =  7350 - 1120\n",
    "\n",
    "min_replace_cost = boats_convert*min_cost\n",
    "max_replace_cost = boats_convert*max_cost\n",
    "average_replace_cost =  boats_convert*((min_cost+max_cost)/2)\n",
    "\n",
    "print(min_replace_cost)\n",
    "print(max_replace_cost)\n",
    "print(average_replace_cost)\n"
   ]
  },
  {
   "cell_type": "markdown",
   "metadata": {},
   "source": [
    "How many support boats and vehicles are needed for the Paralympics event only"
   ]
  },
  {
   "cell_type": "code",
   "execution_count": 8,
   "metadata": {},
   "outputs": [
    {
     "name": "stdout",
     "output_type": "stream",
     "text": [
      "2.6666666666666665\n"
     ]
    }
   ],
   "source": [
    "Support_vessels = 32/12\n",
    "print(Support_vessels)"
   ]
  },
  {
   "cell_type": "markdown",
   "metadata": {},
   "source": [
    "If only clean energy can be used, how many solar panels or wind turbines are needed?\n",
    "Is it possible to accommodate these facilities within the city?"
   ]
  },
  {
   "cell_type": "code",
   "execution_count": 11,
   "metadata": {},
   "outputs": [
    {
     "name": "stdout",
     "output_type": "stream",
     "text": [
      "20401.06666666667\n",
      "68.00355555555556\n",
      "112.20586666666668\n"
     ]
    }
   ],
   "source": [
    "# a more realistic number of support vessels outlined earlier is 8\n",
    "# thus we use this for this calculation\n",
    "hours_event =  4\n",
    "nr_support_vessels = 8\n",
    "energy_per_hour = 1.572\n",
    "Hour_run = hours_event*nr_support_vessels\n",
    "Energy_consumption = Hour_run*energy_per_hour\n",
    "size_solar_panel_m2 = 1*1.65\n",
    "\n",
    "# having found the amount of energy needed we calculate numebr of solar panels needed\n",
    "energy_per_unit_year = 0.9\n",
    "unit_per_panel = 300\n",
    "\n",
    "energy_per_day = 0.9/365\n",
    "unit_needed = Energy_consumption/energy_per_day\n",
    "print(unit_needed)\n",
    "panel_needed = unit_needed/unit_per_panel\n",
    "print(panel_needed)\n",
    "area_needed = size_solar_panel_m2*panel_needed\n",
    "print (area_needed)"
   ]
  }
 ],
 "metadata": {
  "kernelspec": {
   "display_name": "geo_env",
   "language": "python",
   "name": "python3"
  },
  "language_info": {
   "codemirror_mode": {
    "name": "ipython",
    "version": 3
   },
   "file_extension": ".py",
   "mimetype": "text/x-python",
   "name": "python",
   "nbconvert_exporter": "python",
   "pygments_lexer": "ipython3",
   "version": "3.10.9"
  }
 },
 "nbformat": 4,
 "nbformat_minor": 2
}
